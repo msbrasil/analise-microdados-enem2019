{
 "cells": [
  {
   "cell_type": "markdown",
   "metadata": {},
   "source": [
    "# Análise de Microdados ENEM 2019"
   ]
  },
  {
   "cell_type": "markdown",
   "metadata": {},
   "source": [
    "## Importação de dados"
   ]
  },
  {
   "cell_type": "code",
   "execution_count": 2,
   "metadata": {},
   "outputs": [],
   "source": [
    "#Pacotes Utilizados\n",
    "import pandas as pd         #biblioteca de código aberto para análise e manipulação de dados\n",
    "import matplotlib as mpl    #biblioteca para criar visualizações"
   ]
  },
  {
   "cell_type": "markdown",
   "metadata": {},
   "source": [
    "Devido a limitação de hardware, foi utilizado uma método diferente do usual para importar os dados. \n",
    "Com a hipótese formulada, podemos filtrar quais colunas vamos utilizar para investigação através do argumento usecols, economizando processamento e memória do computador. \n",
    "Outra alternativa seria diminuir o tamanho do dataset através das linhas com o argumento nrows."
   ]
  },
  {
   "cell_type": "code",
   "execution_count": 3,
   "metadata": {},
   "outputs": [],
   "source": [
    "caminho = \"D:\\ARQUIVOS\\MICRODADOS_ENEM_2019.csv\"    #path para importação de arquivos\n",
    "colunas = ['NO_MUNICIPIO_RESIDENCIA', 'NU_IDADE', 'SG_UF_RESIDENCIA', 'IN_GESTANTE', 'TP_SEXO', 'SG_UF_RESIDENCIA',\n",
    "'NU_NOTA_REDACAO', 'NU_INSCRICAO', 'NU_NOTA_MT', 'Q001', 'Q002']    #colunas selecionadas para importação\n",
    "microdadosEnem = pd.read_csv(caminho, sep=';', encoding='ISO-8859-1', usecols=colunas) #microdados armazenado como data frame"
   ]
  },
  {
   "cell_type": "code",
   "execution_count": 3,
   "metadata": {},
   "outputs": [
    {
     "data": {
      "text/html": [
       "<div>\n",
       "<style scoped>\n",
       "    .dataframe tbody tr th:only-of-type {\n",
       "        vertical-align: middle;\n",
       "    }\n",
       "\n",
       "    .dataframe tbody tr th {\n",
       "        vertical-align: top;\n",
       "    }\n",
       "\n",
       "    .dataframe thead th {\n",
       "        text-align: right;\n",
       "    }\n",
       "</style>\n",
       "<table border=\"1\" class=\"dataframe\">\n",
       "  <thead>\n",
       "    <tr style=\"text-align: right;\">\n",
       "      <th></th>\n",
       "      <th>NU_INSCRICAO</th>\n",
       "      <th>NO_MUNICIPIO_RESIDENCIA</th>\n",
       "      <th>SG_UF_RESIDENCIA</th>\n",
       "      <th>NU_IDADE</th>\n",
       "      <th>TP_SEXO</th>\n",
       "      <th>IN_GESTANTE</th>\n",
       "      <th>NU_NOTA_MT</th>\n",
       "      <th>NU_NOTA_REDACAO</th>\n",
       "      <th>Q001</th>\n",
       "      <th>Q002</th>\n",
       "    </tr>\n",
       "  </thead>\n",
       "  <tbody>\n",
       "    <tr>\n",
       "      <th>0</th>\n",
       "      <td>190001595656</td>\n",
       "      <td>Sorocaba</td>\n",
       "      <td>SP</td>\n",
       "      <td>36.0</td>\n",
       "      <td>M</td>\n",
       "      <td>0</td>\n",
       "      <td>NaN</td>\n",
       "      <td>NaN</td>\n",
       "      <td>B</td>\n",
       "      <td>B</td>\n",
       "    </tr>\n",
       "    <tr>\n",
       "      <th>1</th>\n",
       "      <td>190001421546</td>\n",
       "      <td>Feira de Santana</td>\n",
       "      <td>BA</td>\n",
       "      <td>23.0</td>\n",
       "      <td>M</td>\n",
       "      <td>0</td>\n",
       "      <td>NaN</td>\n",
       "      <td>NaN</td>\n",
       "      <td>C</td>\n",
       "      <td>E</td>\n",
       "    </tr>\n",
       "    <tr>\n",
       "      <th>2</th>\n",
       "      <td>190001133210</td>\n",
       "      <td>Fortaleza</td>\n",
       "      <td>CE</td>\n",
       "      <td>39.0</td>\n",
       "      <td>F</td>\n",
       "      <td>0</td>\n",
       "      <td>NaN</td>\n",
       "      <td>NaN</td>\n",
       "      <td>E</td>\n",
       "      <td>E</td>\n",
       "    </tr>\n",
       "    <tr>\n",
       "      <th>3</th>\n",
       "      <td>190001199383</td>\n",
       "      <td>Palmas</td>\n",
       "      <td>TO</td>\n",
       "      <td>25.0</td>\n",
       "      <td>F</td>\n",
       "      <td>0</td>\n",
       "      <td>392.0</td>\n",
       "      <td>460.0</td>\n",
       "      <td>C</td>\n",
       "      <td>E</td>\n",
       "    </tr>\n",
       "    <tr>\n",
       "      <th>4</th>\n",
       "      <td>190001237802</td>\n",
       "      <td>Contagem</td>\n",
       "      <td>MG</td>\n",
       "      <td>22.0</td>\n",
       "      <td>F</td>\n",
       "      <td>0</td>\n",
       "      <td>677.0</td>\n",
       "      <td>860.0</td>\n",
       "      <td>E</td>\n",
       "      <td>E</td>\n",
       "    </tr>\n",
       "  </tbody>\n",
       "</table>\n",
       "</div>"
      ],
      "text/plain": [
       "   NU_INSCRICAO NO_MUNICIPIO_RESIDENCIA SG_UF_RESIDENCIA  NU_IDADE TP_SEXO  \\\n",
       "0  190001595656                Sorocaba               SP      36.0       M   \n",
       "1  190001421546        Feira de Santana               BA      23.0       M   \n",
       "2  190001133210               Fortaleza               CE      39.0       F   \n",
       "3  190001199383                  Palmas               TO      25.0       F   \n",
       "4  190001237802                Contagem               MG      22.0       F   \n",
       "\n",
       "   IN_GESTANTE  NU_NOTA_MT  NU_NOTA_REDACAO Q001 Q002  \n",
       "0            0         NaN              NaN    B    B  \n",
       "1            0         NaN              NaN    C    E  \n",
       "2            0         NaN              NaN    E    E  \n",
       "3            0       392.0            460.0    C    E  \n",
       "4            0       677.0            860.0    E    E  "
      ]
     },
     "execution_count": 3,
     "metadata": {},
     "output_type": "execute_result"
    }
   ],
   "source": [
    "#uma vez que os dados foram importados para a variável microdadosEnem, podemos visualizar as primeiras linhas do nosso data frame\n",
    "microdadosEnem.head() #Método que mostra as primeiras do data frame."
   ]
  },
  {
   "cell_type": "markdown",
   "metadata": {},
   "source": [
    "## Análisando os dados"
   ]
  },
  {
   "cell_type": "markdown",
   "metadata": {},
   "source": [
    "Primeiramente, gostaria de saber quantos participantes existe por município. Cada linha do nosso data frame corresponde a um participante, portanto, contar o número de ocorrências de cada município vai responder a primeira pergunta. "
   ]
  },
  {
   "cell_type": "code",
   "execution_count": 4,
   "metadata": {},
   "outputs": [],
   "source": [
    "coluna_no_municipio_residencia = microdadosEnem['NO_MUNICIPIO_RESIDENCIA'] #Armazeno a coluna que contém o nome do município de residência em uma nova variável"
   ]
  },
  {
   "cell_type": "code",
   "execution_count": 7,
   "metadata": {},
   "outputs": [
    {
     "data": {
      "text/plain": [
       "São Paulo                  229837\n",
       "Rio de Janeiro             137762\n",
       "Brasília                    94352\n",
       "Fortaleza                   93959\n",
       "Salvador                    88557\n",
       "Manaus                      85305\n",
       "Belo Horizonte              79384\n",
       "Belém                       77105\n",
       "São Luís                    67545\n",
       "Recife                      54712\n",
       "Goiânia                     48234\n",
       "Teresina                    46814\n",
       "Curitiba                    44463\n",
       "João Pessoa                 37219\n",
       "Maceió                      34635\n",
       "Natal                       32695\n",
       "Porto Alegre                30622\n",
       "Campo Grande                28879\n",
       "Macapá                      28581\n",
       "Aracaju                     26445\n",
       "Ananindeua                  25885\n",
       "Rio Branco                  25261\n",
       "Feira de Santana            25200\n",
       "Guarulhos                   24925\n",
       "Porto Velho                 24757\n",
       "Cuiabá                      24227\n",
       "Campina Grande              21735\n",
       "Uberlândia                  21368\n",
       "Campinas                    20866\n",
       "Jaboatão dos Guararapes     20504\n",
       "Name: NO_MUNICIPIO_RESIDENCIA, dtype: int64"
      ]
     },
     "execution_count": 7,
     "metadata": {},
     "output_type": "execute_result"
    }
   ],
   "source": [
    "coluna_no_municipio_residencia.value_counts().head(30) #O método value_counts() faz o trabalho de contar o número de ocorrências de cada município."
   ]
  },
  {
   "cell_type": "code",
   "execution_count": 6,
   "metadata": {},
   "outputs": [
    {
     "data": {
      "text/plain": [
       "Abadia de Goiás         283\n",
       "Abadia dos Dourados     140\n",
       "Abadiânia               280\n",
       "Abaetetuba             6821\n",
       "Abaeté                  495\n",
       "                       ... \n",
       "Áurea                    68\n",
       "Ângulo                   44\n",
       "Érico Cardoso           127\n",
       "Óbidos                 1313\n",
       "Óleo                     46\n",
       "Name: NO_MUNICIPIO_RESIDENCIA, Length: 5299, dtype: int64"
      ]
     },
     "execution_count": 6,
     "metadata": {},
     "output_type": "execute_result"
    }
   ],
   "source": [
    "coluna_no_municipio_residencia.value_counts().sort_index() #Acrescentando o método sort_index(), a contagem de municípios será apresentada em ordem alfabética."
   ]
  },
  {
   "cell_type": "code",
   "execution_count": 7,
   "metadata": {},
   "outputs": [],
   "source": [
    "#Vou aplicar o mesmo processo, mas dessa vez para a coluna idade.\n",
    "coluna_nu_idade = microdadosEnem['NU_IDADE']"
   ]
  },
  {
   "cell_type": "code",
   "execution_count": 8,
   "metadata": {},
   "outputs": [
    {
     "data": {
      "text/plain": [
       "18.0    864186\n",
       "17.0    847303\n",
       "19.0    577161\n",
       "20.0    409385\n",
       "16.0    316437\n",
       "         ...  \n",
       "85.0         2\n",
       "88.0         1\n",
       "94.0         1\n",
       "92.0         1\n",
       "87.0         1\n",
       "Name: NU_IDADE, Length: 82, dtype: int64"
      ]
     },
     "execution_count": 8,
     "metadata": {},
     "output_type": "execute_result"
    }
   ],
   "source": [
    "coluna_nu_idade.value_counts()"
   ]
  },
  {
   "cell_type": "code",
   "execution_count": 9,
   "metadata": {},
   "outputs": [
    {
     "data": {
      "text/plain": [
       "10.0       6\n",
       "11.0       9\n",
       "12.0      46\n",
       "13.0     266\n",
       "14.0    5267\n",
       "        ... \n",
       "87.0       1\n",
       "88.0       1\n",
       "91.0       2\n",
       "92.0       1\n",
       "94.0       1\n",
       "Name: NU_IDADE, Length: 82, dtype: int64"
      ]
     },
     "execution_count": 9,
     "metadata": {},
     "output_type": "execute_result"
    }
   ],
   "source": [
    "coluna_nu_idade.value_counts().sort_index()"
   ]
  },
  {
   "cell_type": "markdown",
   "metadata": {},
   "source": [
    "As células acima trouxeram os primeiros insights da análise. Com a contagem de ocorrências, descobrimos que a idade da maioria dos participantes é 18 anos. \n",
    "\n",
    "Com o método sort_index() apresentando os dados em ordem crescente, descobrimos que existem pessoas relativamente novas e de idade avançada que realizaram a a prova do enem em 2019.\n",
    "\n",
    "Para facilitar a visualização, podemos plotar um gráfico de histograma."
   ]
  },
  {
   "cell_type": "code",
   "execution_count": 10,
   "metadata": {},
   "outputs": [
    {
     "data": {
      "text/plain": [
       "<AxesSubplot:>"
      ]
     },
     "execution_count": 10,
     "metadata": {},
     "output_type": "execute_result"
    },
    {
     "data": {
      "image/png": "[encoded data removed]",
      "text/plain": [
       "<Figure size 432x288 with 1 Axes>"
      ]
     },
     "metadata": {
      "needs_background": "light"
     },
     "output_type": "display_data"
    }
   ],
   "source": [
    "coluna_nu_idade.hist(bins=30) #.hist() plota o gráfico de histograma. O argumento bins aumenta o número de colunas do gráfico, resultando em uma melhor visualização."
   ]
  },
  {
   "cell_type": "code",
   "execution_count": 11,
   "metadata": {},
   "outputs": [],
   "source": [
    "#Agora, vamos investigar o número de participantes por estado\n",
    "coluna_sg_uf_residencia = microdadosEnem['SG_UF_RESIDENCIA']"
   ]
  },
  {
   "cell_type": "code",
   "execution_count": 12,
   "metadata": {},
   "outputs": [
    {
     "data": {
      "text/plain": [
       "SP    813772\n",
       "MG    538896\n",
       "BA    398095\n",
       "RJ    338710\n",
       "CE    295870\n",
       "PA    281518\n",
       "PE    271727\n",
       "MA    219673\n",
       "RS    218763\n",
       "PR    210080\n",
       "GO    170147\n",
       "PB    147780\n",
       "PI    121181\n",
       "RN    119179\n",
       "AM    118087\n",
       "SC    109515\n",
       "ES    102435\n",
       "DF     94352\n",
       "AL     91707\n",
       "MT     88349\n",
       "SE     75895\n",
       "MS     70157\n",
       "RO     58885\n",
       "TO     47181\n",
       "AP     42140\n",
       "AC     38229\n",
       "RR     12947\n",
       "Name: SG_UF_RESIDENCIA, dtype: int64"
      ]
     },
     "execution_count": 12,
     "metadata": {},
     "output_type": "execute_result"
    }
   ],
   "source": [
    "coluna_sg_uf_residencia.value_counts() #Aqui, descobrimos que o Estado com maior e menor frequência de participantes são Sâo Paulo e Roraima, respectivamente. "
   ]
  },
  {
   "cell_type": "code",
   "execution_count": 13,
   "metadata": {},
   "outputs": [
    {
     "data": {
      "text/plain": [
       "<AxesSubplot:>"
      ]
     },
     "execution_count": 13,
     "metadata": {},
     "output_type": "execute_result"
    },
    {
     "data": {
      "image/png": "[encoded data removed]",
      "text/plain": [
       "<Figure size 432x288 with 1 Axes>"
      ]
     },
     "metadata": {
      "needs_background": "light"
     },
     "output_type": "display_data"
    }
   ],
   "source": [
    "coluna_sg_uf_residencia.hist(bins=27)"
   ]
  },
  {
   "cell_type": "markdown",
   "metadata": {},
   "source": [
    "Uma informação que gostaria de saber é o percentual de gestantes que realizaram o enem em 2019..."
   ]
  },
  {
   "cell_type": "code",
   "execution_count": 14,
   "metadata": {},
   "outputs": [],
   "source": [
    "coluna_in_gestante = microdadosEnem['IN_GESTANTE']"
   ]
  },
  {
   "cell_type": "code",
   "execution_count": 15,
   "metadata": {},
   "outputs": [],
   "source": [
    "distInGestante = coluna_in_gestante.value_counts() "
   ]
  },
  {
   "cell_type": "code",
   "execution_count": 16,
   "metadata": {},
   "outputs": [
    {
     "data": {
      "text/plain": [
       "0    5093860\n",
       "1       1410\n",
       "Name: IN_GESTANTE, dtype: int64"
      ]
     },
     "execution_count": 16,
     "metadata": {},
     "output_type": "execute_result"
    }
   ],
   "source": [
    "distInGestante #O resultado para esse contagem retorna 0 e 1, sendo 0 = falso e 1 = verdadeiro, ou seja, gestantes."
   ]
  },
  {
   "cell_type": "code",
   "execution_count": 17,
   "metadata": {},
   "outputs": [],
   "source": [
    "percentInGestante = [100 * x / distInGestante.sum() for x in distInGestante]"
   ]
  },
  {
   "cell_type": "code",
   "execution_count": 18,
   "metadata": {},
   "outputs": [
    {
     "data": {
      "text/plain": [
       "[99.97232727608154, 0.027672723918457705]"
      ]
     },
     "execution_count": 18,
     "metadata": {},
     "output_type": "execute_result"
    }
   ],
   "source": [
    "percentInGestante"
   ]
  },
  {
   "cell_type": "markdown",
   "metadata": {},
   "source": [
    "O resultado foi que aproximadamente 99,97% dos candidatos não são gestantes, enquanto aproximadamente 0,02% são gestantes. Entretanto, esse cálculo foi realizado em relação ao total de candidatos. A informação que procuramos talvez fosse mais precisa se o cálculo fosse em relação ao número de candidatas do sexo feminino."
   ]
  },
  {
   "cell_type": "code",
   "execution_count": 19,
   "metadata": {},
   "outputs": [],
   "source": [
    "coluna_tp_sexo = microdadosEnem['TP_SEXO']"
   ]
  },
  {
   "cell_type": "code",
   "execution_count": 20,
   "metadata": {},
   "outputs": [],
   "source": [
    "distTpSexo = coluna_tp_sexo.value_counts()"
   ]
  },
  {
   "cell_type": "code",
   "execution_count": 21,
   "metadata": {},
   "outputs": [
    {
     "data": {
      "text/plain": [
       "F    3031822\n",
       "M    2063448\n",
       "Name: TP_SEXO, dtype: int64"
      ]
     },
     "execution_count": 21,
     "metadata": {},
     "output_type": "execute_result"
    }
   ],
   "source": [
    "distTpSexo #O resultado de pessoas que declaram o sexo feminino ou masculino nessa edição do enem."
   ]
  },
  {
   "cell_type": "code",
   "execution_count": 22,
   "metadata": {},
   "outputs": [],
   "source": [
    "percentTpSexo = [100*x/distTpSexo.sum() for x in distTpSexo]"
   ]
  },
  {
   "cell_type": "code",
   "execution_count": 23,
   "metadata": {},
   "outputs": [
    {
     "data": {
      "text/plain": [
       "[59.50267601128105, 40.49732398871895]"
      ]
     },
     "execution_count": 23,
     "metadata": {},
     "output_type": "execute_result"
    }
   ],
   "source": [
    "percentTpSexo #o resultado apresentando como percentual. O maior percentual é do sexo feminino."
   ]
  },
  {
   "cell_type": "code",
   "execution_count": 24,
   "metadata": {},
   "outputs": [],
   "source": [
    "sexoFeminino = distTpSexo[0]        #Número de candidatas do sexo feminino\n",
    "nu_gestantes = distInGestante[1]    #Número de gestantes"
   ]
  },
  {
   "cell_type": "code",
   "execution_count": 25,
   "metadata": {},
   "outputs": [],
   "source": [
    "percentGestantes = 100*nu_gestantes/sexoFeminino"
   ]
  },
  {
   "cell_type": "code",
   "execution_count": 26,
   "metadata": {},
   "outputs": [
    {
     "data": {
      "text/plain": [
       "0.04650668805754427"
      ]
     },
     "execution_count": 26,
     "metadata": {},
     "output_type": "execute_result"
    }
   ],
   "source": [
    "percentGestantes #Esse é o resultado que procuramos. O percentual de gestantes em relação ao total de candidatas do sexo feminino."
   ]
  },
  {
   "cell_type": "code",
   "execution_count": 27,
   "metadata": {},
   "outputs": [],
   "source": [
    "percentNaoGestantes = 100 - percentGestantes "
   ]
  },
  {
   "cell_type": "code",
   "execution_count": 28,
   "metadata": {},
   "outputs": [
    {
     "data": {
      "text/plain": [
       "99.95349331194245"
      ]
     },
     "execution_count": 28,
     "metadata": {},
     "output_type": "execute_result"
    }
   ],
   "source": [
    "percentNaoGestantes #Para completar, o percentual de não gestantes."
   ]
  },
  {
   "cell_type": "markdown",
   "metadata": {},
   "source": [
    "A seguir, vou analisar os dados do Enem por declaração de sexo."
   ]
  },
  {
   "cell_type": "code",
   "execution_count": 29,
   "metadata": {},
   "outputs": [],
   "source": [
    "microdadosEnemSexoRedacao = microdadosEnem.filter(items=('TP_SEXO', 'NU_NOTA_REDACAO')) #armazenando em uma nova variável somente os dados que serão utilizados."
   ]
  },
  {
   "cell_type": "code",
   "execution_count": 30,
   "metadata": {},
   "outputs": [
    {
     "data": {
      "text/html": [
       "<div>\n",
       "<style scoped>\n",
       "    .dataframe tbody tr th:only-of-type {\n",
       "        vertical-align: middle;\n",
       "    }\n",
       "\n",
       "    .dataframe tbody tr th {\n",
       "        vertical-align: top;\n",
       "    }\n",
       "\n",
       "    .dataframe thead th {\n",
       "        text-align: right;\n",
       "    }\n",
       "</style>\n",
       "<table border=\"1\" class=\"dataframe\">\n",
       "  <thead>\n",
       "    <tr style=\"text-align: right;\">\n",
       "      <th></th>\n",
       "      <th>TP_SEXO</th>\n",
       "      <th>NU_NOTA_REDACAO</th>\n",
       "    </tr>\n",
       "  </thead>\n",
       "  <tbody>\n",
       "    <tr>\n",
       "      <th>0</th>\n",
       "      <td>M</td>\n",
       "      <td>NaN</td>\n",
       "    </tr>\n",
       "    <tr>\n",
       "      <th>1</th>\n",
       "      <td>M</td>\n",
       "      <td>NaN</td>\n",
       "    </tr>\n",
       "    <tr>\n",
       "      <th>2</th>\n",
       "      <td>F</td>\n",
       "      <td>NaN</td>\n",
       "    </tr>\n",
       "    <tr>\n",
       "      <th>3</th>\n",
       "      <td>F</td>\n",
       "      <td>460.0</td>\n",
       "    </tr>\n",
       "    <tr>\n",
       "      <th>4</th>\n",
       "      <td>F</td>\n",
       "      <td>860.0</td>\n",
       "    </tr>\n",
       "  </tbody>\n",
       "</table>\n",
       "</div>"
      ],
      "text/plain": [
       "  TP_SEXO  NU_NOTA_REDACAO\n",
       "0       M              NaN\n",
       "1       M              NaN\n",
       "2       F              NaN\n",
       "3       F            460.0\n",
       "4       F            860.0"
      ]
     },
     "execution_count": 30,
     "metadata": {},
     "output_type": "execute_result"
    }
   ],
   "source": [
    "microdadosEnemSexoRedacao.head()"
   ]
  },
  {
   "cell_type": "markdown",
   "metadata": {},
   "source": [
    "O método head() mostra as primeiras linhas e percebemos que algumas delas possuem um valor NaN (Not a Number). Uma hipótese seria que o candidato/a não realizou a redação. Todavia, a presença desses valores NaN dificulta a manipulação e é necessário um tratamento. Para esse caso, vou escolher retirar as linhas que possuem o valor NaN na coluna correspondente a nota.\n"
   ]
  },
  {
   "cell_type": "code",
   "execution_count": 31,
   "metadata": {},
   "outputs": [],
   "source": [
    "microdadosEnemSexoRedacao = microdadosEnemSexoRedacao.dropna()"
   ]
  },
  {
   "cell_type": "code",
   "execution_count": 32,
   "metadata": {},
   "outputs": [
    {
     "data": {
      "text/html": [
       "<div>\n",
       "<style scoped>\n",
       "    .dataframe tbody tr th:only-of-type {\n",
       "        vertical-align: middle;\n",
       "    }\n",
       "\n",
       "    .dataframe tbody tr th {\n",
       "        vertical-align: top;\n",
       "    }\n",
       "\n",
       "    .dataframe thead th {\n",
       "        text-align: right;\n",
       "    }\n",
       "</style>\n",
       "<table border=\"1\" class=\"dataframe\">\n",
       "  <thead>\n",
       "    <tr style=\"text-align: right;\">\n",
       "      <th></th>\n",
       "      <th>TP_SEXO</th>\n",
       "      <th>NU_NOTA_REDACAO</th>\n",
       "    </tr>\n",
       "  </thead>\n",
       "  <tbody>\n",
       "    <tr>\n",
       "      <th>3</th>\n",
       "      <td>F</td>\n",
       "      <td>460.0</td>\n",
       "    </tr>\n",
       "    <tr>\n",
       "      <th>4</th>\n",
       "      <td>F</td>\n",
       "      <td>860.0</td>\n",
       "    </tr>\n",
       "    <tr>\n",
       "      <th>5</th>\n",
       "      <td>M</td>\n",
       "      <td>800.0</td>\n",
       "    </tr>\n",
       "    <tr>\n",
       "      <th>6</th>\n",
       "      <td>F</td>\n",
       "      <td>600.0</td>\n",
       "    </tr>\n",
       "    <tr>\n",
       "      <th>9</th>\n",
       "      <td>M</td>\n",
       "      <td>400.0</td>\n",
       "    </tr>\n",
       "  </tbody>\n",
       "</table>\n",
       "</div>"
      ],
      "text/plain": [
       "  TP_SEXO  NU_NOTA_REDACAO\n",
       "3       F            460.0\n",
       "4       F            860.0\n",
       "5       M            800.0\n",
       "6       F            600.0\n",
       "9       M            400.0"
      ]
     },
     "execution_count": 32,
     "metadata": {},
     "output_type": "execute_result"
    }
   ],
   "source": [
    "microdadosEnemSexoRedacao.head()"
   ]
  },
  {
   "cell_type": "markdown",
   "metadata": {},
   "source": [
    "Feito isso, podemos trabalhar com o dataframe. Primeiramente, vendo a quantidade de candidatos pelo sexo declarado."
   ]
  },
  {
   "cell_type": "code",
   "execution_count": 33,
   "metadata": {},
   "outputs": [
    {
     "data": {
      "text/html": [
       "<div>\n",
       "<style scoped>\n",
       "    .dataframe tbody tr th:only-of-type {\n",
       "        vertical-align: middle;\n",
       "    }\n",
       "\n",
       "    .dataframe tbody tr th {\n",
       "        vertical-align: top;\n",
       "    }\n",
       "\n",
       "    .dataframe thead th {\n",
       "        text-align: right;\n",
       "    }\n",
       "</style>\n",
       "<table border=\"1\" class=\"dataframe\">\n",
       "  <thead>\n",
       "    <tr style=\"text-align: right;\">\n",
       "      <th></th>\n",
       "      <th>NU_NOTA_REDACAO</th>\n",
       "    </tr>\n",
       "    <tr>\n",
       "      <th>TP_SEXO</th>\n",
       "      <th></th>\n",
       "    </tr>\n",
       "  </thead>\n",
       "  <tbody>\n",
       "    <tr>\n",
       "      <th>F</th>\n",
       "      <td>2336431</td>\n",
       "    </tr>\n",
       "    <tr>\n",
       "      <th>M</th>\n",
       "      <td>1586713</td>\n",
       "    </tr>\n",
       "  </tbody>\n",
       "</table>\n",
       "</div>"
      ],
      "text/plain": [
       "         NU_NOTA_REDACAO\n",
       "TP_SEXO                 \n",
       "F                2336431\n",
       "M                1586713"
      ]
     },
     "execution_count": 33,
     "metadata": {},
     "output_type": "execute_result"
    }
   ],
   "source": [
    "microdadosEnemSexoRedacao.groupby('TP_SEXO').count() #objeto groupby() aglutina as linhas pelo mesmo valor de uma coluna declarada na função."
   ]
  },
  {
   "cell_type": "markdown",
   "metadata": {},
   "source": [
    "Qual sexo possui a maior a nota? Podemos investigar pela maior nota, menor, média ou mediana."
   ]
  },
  {
   "cell_type": "code",
   "execution_count": 34,
   "metadata": {},
   "outputs": [
    {
     "data": {
      "text/html": [
       "<div>\n",
       "<style scoped>\n",
       "    .dataframe tbody tr th:only-of-type {\n",
       "        vertical-align: middle;\n",
       "    }\n",
       "\n",
       "    .dataframe tbody tr th {\n",
       "        vertical-align: top;\n",
       "    }\n",
       "\n",
       "    .dataframe thead th {\n",
       "        text-align: right;\n",
       "    }\n",
       "</style>\n",
       "<table border=\"1\" class=\"dataframe\">\n",
       "  <thead>\n",
       "    <tr style=\"text-align: right;\">\n",
       "      <th></th>\n",
       "      <th>NU_NOTA_REDACAO</th>\n",
       "    </tr>\n",
       "    <tr>\n",
       "      <th>TP_SEXO</th>\n",
       "      <th></th>\n",
       "    </tr>\n",
       "  </thead>\n",
       "  <tbody>\n",
       "    <tr>\n",
       "      <th>F</th>\n",
       "      <td>1000.0</td>\n",
       "    </tr>\n",
       "    <tr>\n",
       "      <th>M</th>\n",
       "      <td>1000.0</td>\n",
       "    </tr>\n",
       "  </tbody>\n",
       "</table>\n",
       "</div>"
      ],
      "text/plain": [
       "         NU_NOTA_REDACAO\n",
       "TP_SEXO                 \n",
       "F                 1000.0\n",
       "M                 1000.0"
      ]
     },
     "execution_count": 34,
     "metadata": {},
     "output_type": "execute_result"
    }
   ],
   "source": [
    "microdadosEnemSexoRedacao.groupby('TP_SEXO').max()"
   ]
  },
  {
   "cell_type": "code",
   "execution_count": 35,
   "metadata": {},
   "outputs": [
    {
     "data": {
      "text/html": [
       "<div>\n",
       "<style scoped>\n",
       "    .dataframe tbody tr th:only-of-type {\n",
       "        vertical-align: middle;\n",
       "    }\n",
       "\n",
       "    .dataframe tbody tr th {\n",
       "        vertical-align: top;\n",
       "    }\n",
       "\n",
       "    .dataframe thead th {\n",
       "        text-align: right;\n",
       "    }\n",
       "</style>\n",
       "<table border=\"1\" class=\"dataframe\">\n",
       "  <thead>\n",
       "    <tr style=\"text-align: right;\">\n",
       "      <th></th>\n",
       "      <th>NU_NOTA_REDACAO</th>\n",
       "    </tr>\n",
       "    <tr>\n",
       "      <th>TP_SEXO</th>\n",
       "      <th></th>\n",
       "    </tr>\n",
       "  </thead>\n",
       "  <tbody>\n",
       "    <tr>\n",
       "      <th>F</th>\n",
       "      <td>40.0</td>\n",
       "    </tr>\n",
       "    <tr>\n",
       "      <th>M</th>\n",
       "      <td>40.0</td>\n",
       "    </tr>\n",
       "  </tbody>\n",
       "</table>\n",
       "</div>"
      ],
      "text/plain": [
       "         NU_NOTA_REDACAO\n",
       "TP_SEXO                 \n",
       "F                   40.0\n",
       "M                   40.0"
      ]
     },
     "execution_count": 35,
     "metadata": {},
     "output_type": "execute_result"
    }
   ],
   "source": [
    "microdadosEnemSexoRedacao[microdadosEnemSexoRedacao.NU_NOTA_REDACAO > 0].groupby('TP_SEXO').min() #Mostra a menor nota que seja maior que zero."
   ]
  },
  {
   "cell_type": "code",
   "execution_count": 36,
   "metadata": {},
   "outputs": [
    {
     "data": {
      "text/html": [
       "<div>\n",
       "<style scoped>\n",
       "    .dataframe tbody tr th:only-of-type {\n",
       "        vertical-align: middle;\n",
       "    }\n",
       "\n",
       "    .dataframe tbody tr th {\n",
       "        vertical-align: top;\n",
       "    }\n",
       "\n",
       "    .dataframe thead th {\n",
       "        text-align: right;\n",
       "    }\n",
       "</style>\n",
       "<table border=\"1\" class=\"dataframe\">\n",
       "  <thead>\n",
       "    <tr style=\"text-align: right;\">\n",
       "      <th></th>\n",
       "      <th>NU_NOTA_REDACAO</th>\n",
       "    </tr>\n",
       "    <tr>\n",
       "      <th>TP_SEXO</th>\n",
       "      <th></th>\n",
       "    </tr>\n",
       "  </thead>\n",
       "  <tbody>\n",
       "    <tr>\n",
       "      <th>F</th>\n",
       "      <td>577.159368</td>\n",
       "    </tr>\n",
       "    <tr>\n",
       "      <th>M</th>\n",
       "      <td>562.396035</td>\n",
       "    </tr>\n",
       "  </tbody>\n",
       "</table>\n",
       "</div>"
      ],
      "text/plain": [
       "         NU_NOTA_REDACAO\n",
       "TP_SEXO                 \n",
       "F             577.159368\n",
       "M             562.396035"
      ]
     },
     "execution_count": 36,
     "metadata": {},
     "output_type": "execute_result"
    }
   ],
   "source": [
    "microdadosEnemSexoRedacao.groupby('TP_SEXO').mean() #A média por sexo"
   ]
  },
  {
   "cell_type": "code",
   "execution_count": 37,
   "metadata": {},
   "outputs": [
    {
     "data": {
      "text/html": [
       "<div>\n",
       "<style scoped>\n",
       "    .dataframe tbody tr th:only-of-type {\n",
       "        vertical-align: middle;\n",
       "    }\n",
       "\n",
       "    .dataframe tbody tr th {\n",
       "        vertical-align: top;\n",
       "    }\n",
       "\n",
       "    .dataframe thead th {\n",
       "        text-align: right;\n",
       "    }\n",
       "</style>\n",
       "<table border=\"1\" class=\"dataframe\">\n",
       "  <thead>\n",
       "    <tr style=\"text-align: right;\">\n",
       "      <th></th>\n",
       "      <th>NU_NOTA_REDACAO</th>\n",
       "    </tr>\n",
       "    <tr>\n",
       "      <th>TP_SEXO</th>\n",
       "      <th></th>\n",
       "    </tr>\n",
       "  </thead>\n",
       "  <tbody>\n",
       "    <tr>\n",
       "      <th>F</th>\n",
       "      <td>580.0</td>\n",
       "    </tr>\n",
       "    <tr>\n",
       "      <th>M</th>\n",
       "      <td>580.0</td>\n",
       "    </tr>\n",
       "  </tbody>\n",
       "</table>\n",
       "</div>"
      ],
      "text/plain": [
       "         NU_NOTA_REDACAO\n",
       "TP_SEXO                 \n",
       "F                  580.0\n",
       "M                  580.0"
      ]
     },
     "execution_count": 37,
     "metadata": {},
     "output_type": "execute_result"
    }
   ],
   "source": [
    "microdadosEnemSexoRedacao.groupby('TP_SEXO').median() #A mediana de cada sexo"
   ]
  },
  {
   "cell_type": "markdown",
   "metadata": {},
   "source": [
    "Por último, podemos plotar um histograma dos grupos."
   ]
  },
  {
   "cell_type": "code",
   "execution_count": 38,
   "metadata": {},
   "outputs": [
    {
     "data": {
      "text/plain": [
       "TP_SEXO\n",
       "F    [[AxesSubplot(0.125,0.125;0.775x0.755)]]\n",
       "M    [[AxesSubplot(0.125,0.125;0.775x0.755)]]\n",
       "dtype: object"
      ]
     },
     "execution_count": 38,
     "metadata": {},
     "output_type": "execute_result"
    },
    {
     "data": {
      "image/png": "[encoded data removed]",
      "text/plain": [
       "<Figure size 432x288 with 1 Axes>"
      ]
     },
     "metadata": {
      "needs_background": "light"
     },
     "output_type": "display_data"
    },
    {
     "data": {
      "image/png": "[encoded data removed]",
      "text/plain": [
       "<Figure size 432x288 with 1 Axes>"
      ]
     },
     "metadata": {
      "needs_background": "light"
     },
     "output_type": "display_data"
    }
   ],
   "source": [
    "microdadosEnemSexoRedacao.groupby('TP_SEXO').hist()"
   ]
  },
  {
   "cell_type": "code",
   "execution_count": 39,
   "metadata": {},
   "outputs": [
    {
     "data": {
      "text/html": [
       "<div>\n",
       "<style scoped>\n",
       "    .dataframe tbody tr th:only-of-type {\n",
       "        vertical-align: middle;\n",
       "    }\n",
       "\n",
       "    .dataframe tbody tr th {\n",
       "        vertical-align: top;\n",
       "    }\n",
       "\n",
       "    .dataframe thead tr th {\n",
       "        text-align: left;\n",
       "    }\n",
       "\n",
       "    .dataframe thead tr:last-of-type th {\n",
       "        text-align: right;\n",
       "    }\n",
       "</style>\n",
       "<table border=\"1\" class=\"dataframe\">\n",
       "  <thead>\n",
       "    <tr>\n",
       "      <th></th>\n",
       "      <th colspan=\"8\" halign=\"left\">NU_NOTA_REDACAO</th>\n",
       "    </tr>\n",
       "    <tr>\n",
       "      <th></th>\n",
       "      <th>count</th>\n",
       "      <th>mean</th>\n",
       "      <th>std</th>\n",
       "      <th>min</th>\n",
       "      <th>25%</th>\n",
       "      <th>50%</th>\n",
       "      <th>75%</th>\n",
       "      <th>max</th>\n",
       "    </tr>\n",
       "    <tr>\n",
       "      <th>TP_SEXO</th>\n",
       "      <th></th>\n",
       "      <th></th>\n",
       "      <th></th>\n",
       "      <th></th>\n",
       "      <th></th>\n",
       "      <th></th>\n",
       "      <th></th>\n",
       "      <th></th>\n",
       "    </tr>\n",
       "  </thead>\n",
       "  <tbody>\n",
       "    <tr>\n",
       "      <th>F</th>\n",
       "      <td>2336431.0</td>\n",
       "      <td>577.159368</td>\n",
       "      <td>187.536483</td>\n",
       "      <td>0.0</td>\n",
       "      <td>480.0</td>\n",
       "      <td>580.0</td>\n",
       "      <td>680.0</td>\n",
       "      <td>1000.0</td>\n",
       "    </tr>\n",
       "    <tr>\n",
       "      <th>M</th>\n",
       "      <td>1586713.0</td>\n",
       "      <td>562.396035</td>\n",
       "      <td>190.214499</td>\n",
       "      <td>0.0</td>\n",
       "      <td>480.0</td>\n",
       "      <td>580.0</td>\n",
       "      <td>660.0</td>\n",
       "      <td>1000.0</td>\n",
       "    </tr>\n",
       "  </tbody>\n",
       "</table>\n",
       "</div>"
      ],
      "text/plain": [
       "        NU_NOTA_REDACAO                                                    \\\n",
       "                  count        mean         std  min    25%    50%    75%   \n",
       "TP_SEXO                                                                     \n",
       "F             2336431.0  577.159368  187.536483  0.0  480.0  580.0  680.0   \n",
       "M             1586713.0  562.396035  190.214499  0.0  480.0  580.0  660.0   \n",
       "\n",
       "                 \n",
       "            max  \n",
       "TP_SEXO          \n",
       "F        1000.0  \n",
       "M        1000.0  "
      ]
     },
     "execution_count": 39,
     "metadata": {},
     "output_type": "execute_result"
    }
   ],
   "source": [
    "microdadosEnemSexoRedacao.groupby('TP_SEXO').describe() #Esse método descreve várias estatísticas do noso conjunto de dado."
   ]
  },
  {
   "cell_type": "markdown",
   "metadata": {},
   "source": [
    "## Análise de Indicadores Sócio Econômicos\n",
    "\n",
    "Para este objetivo, será usado as questões 'Q001 - Até que série seu pai, ou homem responsáve por você, estudou?' e 'Q002 - Até que série sua mãe, ou mulher responsável por você, estudou?'\n",
    "Para essas perguntas, as reposta variam entre as alternativas A a H, sendo:\n",
    "\n",
    "A - Nunca estudou.\n",
    "\n",
    "B - Não completou a 4ª série/5º ano do Ensino Fundamental.\n",
    "\n",
    "\n",
    "C - Completou a 4ª série/5º ano, mas não completou a 8ª série/9º ano do Ensino Fundamental.\n",
    "\n",
    "D - Completou a 8ª série/9º ano do Ensino Fundamental, mas não completou o Ensino Médio.\n",
    "\n",
    "E - Completou o Ensino Médio, mas não completou a Faculdade.\n",
    "\n",
    "F - Completou a Faculdade, mas não completou a Pós-graduação.\n",
    "\n",
    "G - Completou a Pós-graduação.\n",
    "\n",
    "H - Não sei.\n"
   ]
  },
  {
   "cell_type": "code",
   "execution_count": 12,
   "metadata": {},
   "outputs": [],
   "source": [
    "colunasSelecionadas = ['NU_INSCRICAO', 'NU_NOTA_MT', 'NU_NOTA_REDACAO', 'Q001', 'Q002', 'SG_UF_RESIDENCIA']\n",
    "microdadosEnemSelecionado = microdadosEnem.filter(items=colunasSelecionadas)"
   ]
  },
  {
   "cell_type": "code",
   "execution_count": 41,
   "metadata": {},
   "outputs": [
    {
     "data": {
      "text/html": [
       "<div>\n",
       "<style scoped>\n",
       "    .dataframe tbody tr th:only-of-type {\n",
       "        vertical-align: middle;\n",
       "    }\n",
       "\n",
       "    .dataframe tbody tr th {\n",
       "        vertical-align: top;\n",
       "    }\n",
       "\n",
       "    .dataframe thead th {\n",
       "        text-align: right;\n",
       "    }\n",
       "</style>\n",
       "<table border=\"1\" class=\"dataframe\">\n",
       "  <thead>\n",
       "    <tr style=\"text-align: right;\">\n",
       "      <th></th>\n",
       "      <th>NU_INSCRICAO</th>\n",
       "      <th>NU_NOTA_MT</th>\n",
       "      <th>NU_NOTA_REDACAO</th>\n",
       "      <th>Q001</th>\n",
       "      <th>Q002</th>\n",
       "      <th>SG_UF_RESIDENCIA</th>\n",
       "    </tr>\n",
       "  </thead>\n",
       "  <tbody>\n",
       "    <tr>\n",
       "      <th>0</th>\n",
       "      <td>190001595656</td>\n",
       "      <td>NaN</td>\n",
       "      <td>NaN</td>\n",
       "      <td>B</td>\n",
       "      <td>B</td>\n",
       "      <td>SP</td>\n",
       "    </tr>\n",
       "    <tr>\n",
       "      <th>1</th>\n",
       "      <td>190001421546</td>\n",
       "      <td>NaN</td>\n",
       "      <td>NaN</td>\n",
       "      <td>C</td>\n",
       "      <td>E</td>\n",
       "      <td>BA</td>\n",
       "    </tr>\n",
       "    <tr>\n",
       "      <th>2</th>\n",
       "      <td>190001133210</td>\n",
       "      <td>NaN</td>\n",
       "      <td>NaN</td>\n",
       "      <td>E</td>\n",
       "      <td>E</td>\n",
       "      <td>CE</td>\n",
       "    </tr>\n",
       "    <tr>\n",
       "      <th>3</th>\n",
       "      <td>190001199383</td>\n",
       "      <td>392.0</td>\n",
       "      <td>460.0</td>\n",
       "      <td>C</td>\n",
       "      <td>E</td>\n",
       "      <td>TO</td>\n",
       "    </tr>\n",
       "    <tr>\n",
       "      <th>4</th>\n",
       "      <td>190001237802</td>\n",
       "      <td>677.0</td>\n",
       "      <td>860.0</td>\n",
       "      <td>E</td>\n",
       "      <td>E</td>\n",
       "      <td>MG</td>\n",
       "    </tr>\n",
       "  </tbody>\n",
       "</table>\n",
       "</div>"
      ],
      "text/plain": [
       "   NU_INSCRICAO  NU_NOTA_MT  NU_NOTA_REDACAO Q001 Q002 SG_UF_RESIDENCIA\n",
       "0  190001595656         NaN              NaN    B    B               SP\n",
       "1  190001421546         NaN              NaN    C    E               BA\n",
       "2  190001133210         NaN              NaN    E    E               CE\n",
       "3  190001199383       392.0            460.0    C    E               TO\n",
       "4  190001237802       677.0            860.0    E    E               MG"
      ]
     },
     "execution_count": 41,
     "metadata": {},
     "output_type": "execute_result"
    }
   ],
   "source": [
    "microdadosEnemSelecionado.head() #Novamente, algumas colunas apresentam o valor NaN, que pode trazer dificuldades para a análise. Portanto, as observações que possuem esse valor serão retiradas"
   ]
  },
  {
   "cell_type": "code",
   "execution_count": 13,
   "metadata": {},
   "outputs": [],
   "source": [
    "microdadosEnemSelecionado = microdadosEnemSelecionado.dropna()"
   ]
  },
  {
   "cell_type": "code",
   "execution_count": 43,
   "metadata": {},
   "outputs": [
    {
     "data": {
      "text/html": [
       "<div>\n",
       "<style scoped>\n",
       "    .dataframe tbody tr th:only-of-type {\n",
       "        vertical-align: middle;\n",
       "    }\n",
       "\n",
       "    .dataframe tbody tr th {\n",
       "        vertical-align: top;\n",
       "    }\n",
       "\n",
       "    .dataframe thead th {\n",
       "        text-align: right;\n",
       "    }\n",
       "</style>\n",
       "<table border=\"1\" class=\"dataframe\">\n",
       "  <thead>\n",
       "    <tr style=\"text-align: right;\">\n",
       "      <th></th>\n",
       "      <th>NU_INSCRICAO</th>\n",
       "      <th>NU_NOTA_MT</th>\n",
       "      <th>NU_NOTA_REDACAO</th>\n",
       "      <th>Q001</th>\n",
       "      <th>Q002</th>\n",
       "      <th>SG_UF_RESIDENCIA</th>\n",
       "    </tr>\n",
       "  </thead>\n",
       "  <tbody>\n",
       "    <tr>\n",
       "      <th>3</th>\n",
       "      <td>190001199383</td>\n",
       "      <td>392.0</td>\n",
       "      <td>460.0</td>\n",
       "      <td>C</td>\n",
       "      <td>E</td>\n",
       "      <td>TO</td>\n",
       "    </tr>\n",
       "    <tr>\n",
       "      <th>4</th>\n",
       "      <td>190001237802</td>\n",
       "      <td>677.0</td>\n",
       "      <td>860.0</td>\n",
       "      <td>E</td>\n",
       "      <td>E</td>\n",
       "      <td>MG</td>\n",
       "    </tr>\n",
       "    <tr>\n",
       "      <th>5</th>\n",
       "      <td>190001782198</td>\n",
       "      <td>675.3</td>\n",
       "      <td>800.0</td>\n",
       "      <td>B</td>\n",
       "      <td>B</td>\n",
       "      <td>MT</td>\n",
       "    </tr>\n",
       "    <tr>\n",
       "      <th>6</th>\n",
       "      <td>190001421548</td>\n",
       "      <td>594.7</td>\n",
       "      <td>600.0</td>\n",
       "      <td>E</td>\n",
       "      <td>B</td>\n",
       "      <td>BA</td>\n",
       "    </tr>\n",
       "    <tr>\n",
       "      <th>9</th>\n",
       "      <td>190001592266</td>\n",
       "      <td>480.7</td>\n",
       "      <td>400.0</td>\n",
       "      <td>E</td>\n",
       "      <td>E</td>\n",
       "      <td>SP</td>\n",
       "    </tr>\n",
       "  </tbody>\n",
       "</table>\n",
       "</div>"
      ],
      "text/plain": [
       "   NU_INSCRICAO  NU_NOTA_MT  NU_NOTA_REDACAO Q001 Q002 SG_UF_RESIDENCIA\n",
       "3  190001199383       392.0            460.0    C    E               TO\n",
       "4  190001237802       677.0            860.0    E    E               MG\n",
       "5  190001782198       675.3            800.0    B    B               MT\n",
       "6  190001421548       594.7            600.0    E    B               BA\n",
       "9  190001592266       480.7            400.0    E    E               SP"
      ]
     },
     "execution_count": 43,
     "metadata": {},
     "output_type": "execute_result"
    }
   ],
   "source": [
    "microdadosEnemSelecionado.head() #Dados limpos. "
   ]
  },
  {
   "cell_type": "markdown",
   "metadata": {},
   "source": [
    "Para trabalhar com as repostas das questões Q001 e Q002 será necessário criar uma variável dicionário, tornando mais fácil extrair informações do dataframe"
   ]
  },
  {
   "cell_type": "code",
   "execution_count": 14,
   "metadata": {},
   "outputs": [],
   "source": [
    "#A partir desse dicionario, será criado uma nova coluna no dataframe\n",
    "Q001Q002Dicionário = {\"A\":\"Nunca estudou.\",\n",
    "\"B\":\"Não completou a 4ª série/5º ano do Ensino Fundamental.\",\n",
    "\"C\":\"Completou a 4ª série/5º ano, mas não completou a 8ª série/9º ano do Ensino Fundamental.\",\n",
    "\"D\":\"Completou a 8ª série/9º ano do Ensino Fundamental, mas não completou o Ensino Médio.\",\n",
    "\"E\":\"Completou o Ensino Médio, mas não completou a Faculdade.\",\n",
    "\"F\":\"Completou a Faculdade, mas não completou a Pós-graduação.\",\n",
    "\"G\":\"Completou a Pós-graduação.\",\n",
    "\"H\":\"Não sei.\"}"
   ]
  },
  {
   "cell_type": "code",
   "execution_count": 15,
   "metadata": {},
   "outputs": [],
   "source": [
    "microdadosEnemSelecionado['NO_Q001'] = [Q001Q002Dicionário[resp] for resp in microdadosEnemSelecionado.Q001] #captura cada resposta da coluna Q001 e adiciona ao lado a resposta alternativa correspondente. \n"
   ]
  },
  {
   "cell_type": "code",
   "execution_count": 16,
   "metadata": {},
   "outputs": [
    {
     "data": {
      "text/html": [
       "<div>\n",
       "<style scoped>\n",
       "    .dataframe tbody tr th:only-of-type {\n",
       "        vertical-align: middle;\n",
       "    }\n",
       "\n",
       "    .dataframe tbody tr th {\n",
       "        vertical-align: top;\n",
       "    }\n",
       "\n",
       "    .dataframe thead th {\n",
       "        text-align: right;\n",
       "    }\n",
       "</style>\n",
       "<table border=\"1\" class=\"dataframe\">\n",
       "  <thead>\n",
       "    <tr style=\"text-align: right;\">\n",
       "      <th></th>\n",
       "      <th>NU_INSCRICAO</th>\n",
       "      <th>NU_NOTA_MT</th>\n",
       "      <th>NU_NOTA_REDACAO</th>\n",
       "      <th>Q001</th>\n",
       "      <th>Q002</th>\n",
       "      <th>SG_UF_RESIDENCIA</th>\n",
       "      <th>NO_Q001</th>\n",
       "    </tr>\n",
       "  </thead>\n",
       "  <tbody>\n",
       "    <tr>\n",
       "      <th>3</th>\n",
       "      <td>190001199383</td>\n",
       "      <td>392.0</td>\n",
       "      <td>460.0</td>\n",
       "      <td>C</td>\n",
       "      <td>E</td>\n",
       "      <td>TO</td>\n",
       "      <td>Completou a 4ª série/5º ano, mas não completou...</td>\n",
       "    </tr>\n",
       "    <tr>\n",
       "      <th>4</th>\n",
       "      <td>190001237802</td>\n",
       "      <td>677.0</td>\n",
       "      <td>860.0</td>\n",
       "      <td>E</td>\n",
       "      <td>E</td>\n",
       "      <td>MG</td>\n",
       "      <td>Completou o Ensino Médio, mas não completou a ...</td>\n",
       "    </tr>\n",
       "    <tr>\n",
       "      <th>5</th>\n",
       "      <td>190001782198</td>\n",
       "      <td>675.3</td>\n",
       "      <td>800.0</td>\n",
       "      <td>B</td>\n",
       "      <td>B</td>\n",
       "      <td>MT</td>\n",
       "      <td>Não completou a 4ª série/5º ano do Ensino Fund...</td>\n",
       "    </tr>\n",
       "    <tr>\n",
       "      <th>6</th>\n",
       "      <td>190001421548</td>\n",
       "      <td>594.7</td>\n",
       "      <td>600.0</td>\n",
       "      <td>E</td>\n",
       "      <td>B</td>\n",
       "      <td>BA</td>\n",
       "      <td>Completou o Ensino Médio, mas não completou a ...</td>\n",
       "    </tr>\n",
       "    <tr>\n",
       "      <th>9</th>\n",
       "      <td>190001592266</td>\n",
       "      <td>480.7</td>\n",
       "      <td>400.0</td>\n",
       "      <td>E</td>\n",
       "      <td>E</td>\n",
       "      <td>SP</td>\n",
       "      <td>Completou o Ensino Médio, mas não completou a ...</td>\n",
       "    </tr>\n",
       "  </tbody>\n",
       "</table>\n",
       "</div>"
      ],
      "text/plain": [
       "   NU_INSCRICAO  NU_NOTA_MT  NU_NOTA_REDACAO Q001 Q002 SG_UF_RESIDENCIA  \\\n",
       "3  190001199383       392.0            460.0    C    E               TO   \n",
       "4  190001237802       677.0            860.0    E    E               MG   \n",
       "5  190001782198       675.3            800.0    B    B               MT   \n",
       "6  190001421548       594.7            600.0    E    B               BA   \n",
       "9  190001592266       480.7            400.0    E    E               SP   \n",
       "\n",
       "                                             NO_Q001  \n",
       "3  Completou a 4ª série/5º ano, mas não completou...  \n",
       "4  Completou o Ensino Médio, mas não completou a ...  \n",
       "5  Não completou a 4ª série/5º ano do Ensino Fund...  \n",
       "6  Completou o Ensino Médio, mas não completou a ...  \n",
       "9  Completou o Ensino Médio, mas não completou a ...  "
      ]
     },
     "execution_count": 16,
     "metadata": {},
     "output_type": "execute_result"
    }
   ],
   "source": [
    "microdadosEnemSelecionado.head()"
   ]
  },
  {
   "cell_type": "code",
   "execution_count": 17,
   "metadata": {},
   "outputs": [],
   "source": [
    "microdadosEnemSelecionado['NO_Q002'] = [Q001Q002Dicionário[resp] for resp in microdadosEnemSelecionado.Q002]"
   ]
  },
  {
   "cell_type": "code",
   "execution_count": 18,
   "metadata": {},
   "outputs": [
    {
     "data": {
      "text/html": [
       "<div>\n",
       "<style scoped>\n",
       "    .dataframe tbody tr th:only-of-type {\n",
       "        vertical-align: middle;\n",
       "    }\n",
       "\n",
       "    .dataframe tbody tr th {\n",
       "        vertical-align: top;\n",
       "    }\n",
       "\n",
       "    .dataframe thead th {\n",
       "        text-align: right;\n",
       "    }\n",
       "</style>\n",
       "<table border=\"1\" class=\"dataframe\">\n",
       "  <thead>\n",
       "    <tr style=\"text-align: right;\">\n",
       "      <th></th>\n",
       "      <th>NU_INSCRICAO</th>\n",
       "      <th>NU_NOTA_MT</th>\n",
       "      <th>NU_NOTA_REDACAO</th>\n",
       "      <th>Q001</th>\n",
       "      <th>Q002</th>\n",
       "      <th>SG_UF_RESIDENCIA</th>\n",
       "      <th>NO_Q001</th>\n",
       "      <th>NO_Q002</th>\n",
       "    </tr>\n",
       "  </thead>\n",
       "  <tbody>\n",
       "    <tr>\n",
       "      <th>3</th>\n",
       "      <td>190001199383</td>\n",
       "      <td>392.0</td>\n",
       "      <td>460.0</td>\n",
       "      <td>C</td>\n",
       "      <td>E</td>\n",
       "      <td>TO</td>\n",
       "      <td>Completou a 4ª série/5º ano, mas não completou...</td>\n",
       "      <td>Completou o Ensino Médio, mas não completou a ...</td>\n",
       "    </tr>\n",
       "    <tr>\n",
       "      <th>4</th>\n",
       "      <td>190001237802</td>\n",
       "      <td>677.0</td>\n",
       "      <td>860.0</td>\n",
       "      <td>E</td>\n",
       "      <td>E</td>\n",
       "      <td>MG</td>\n",
       "      <td>Completou o Ensino Médio, mas não completou a ...</td>\n",
       "      <td>Completou o Ensino Médio, mas não completou a ...</td>\n",
       "    </tr>\n",
       "    <tr>\n",
       "      <th>5</th>\n",
       "      <td>190001782198</td>\n",
       "      <td>675.3</td>\n",
       "      <td>800.0</td>\n",
       "      <td>B</td>\n",
       "      <td>B</td>\n",
       "      <td>MT</td>\n",
       "      <td>Não completou a 4ª série/5º ano do Ensino Fund...</td>\n",
       "      <td>Não completou a 4ª série/5º ano do Ensino Fund...</td>\n",
       "    </tr>\n",
       "    <tr>\n",
       "      <th>6</th>\n",
       "      <td>190001421548</td>\n",
       "      <td>594.7</td>\n",
       "      <td>600.0</td>\n",
       "      <td>E</td>\n",
       "      <td>B</td>\n",
       "      <td>BA</td>\n",
       "      <td>Completou o Ensino Médio, mas não completou a ...</td>\n",
       "      <td>Não completou a 4ª série/5º ano do Ensino Fund...</td>\n",
       "    </tr>\n",
       "    <tr>\n",
       "      <th>9</th>\n",
       "      <td>190001592266</td>\n",
       "      <td>480.7</td>\n",
       "      <td>400.0</td>\n",
       "      <td>E</td>\n",
       "      <td>E</td>\n",
       "      <td>SP</td>\n",
       "      <td>Completou o Ensino Médio, mas não completou a ...</td>\n",
       "      <td>Completou o Ensino Médio, mas não completou a ...</td>\n",
       "    </tr>\n",
       "  </tbody>\n",
       "</table>\n",
       "</div>"
      ],
      "text/plain": [
       "   NU_INSCRICAO  NU_NOTA_MT  NU_NOTA_REDACAO Q001 Q002 SG_UF_RESIDENCIA  \\\n",
       "3  190001199383       392.0            460.0    C    E               TO   \n",
       "4  190001237802       677.0            860.0    E    E               MG   \n",
       "5  190001782198       675.3            800.0    B    B               MT   \n",
       "6  190001421548       594.7            600.0    E    B               BA   \n",
       "9  190001592266       480.7            400.0    E    E               SP   \n",
       "\n",
       "                                             NO_Q001  \\\n",
       "3  Completou a 4ª série/5º ano, mas não completou...   \n",
       "4  Completou o Ensino Médio, mas não completou a ...   \n",
       "5  Não completou a 4ª série/5º ano do Ensino Fund...   \n",
       "6  Completou o Ensino Médio, mas não completou a ...   \n",
       "9  Completou o Ensino Médio, mas não completou a ...   \n",
       "\n",
       "                                             NO_Q002  \n",
       "3  Completou o Ensino Médio, mas não completou a ...  \n",
       "4  Completou o Ensino Médio, mas não completou a ...  \n",
       "5  Não completou a 4ª série/5º ano do Ensino Fund...  \n",
       "6  Não completou a 4ª série/5º ano do Ensino Fund...  \n",
       "9  Completou o Ensino Médio, mas não completou a ...  "
      ]
     },
     "execution_count": 18,
     "metadata": {},
     "output_type": "execute_result"
    }
   ],
   "source": [
    "microdadosEnemSelecionado.head()"
   ]
  },
  {
   "cell_type": "markdown",
   "metadata": {},
   "source": [
    "Com as novas colunas, podemos analisar a distribuição, comparar e verificar a relação da escolridade dos pais com as notas de matemática e redação"
   ]
  },
  {
   "cell_type": "code",
   "execution_count": 19,
   "metadata": {},
   "outputs": [
    {
     "data": {
      "text/html": [
       "<div>\n",
       "<style scoped>\n",
       "    .dataframe tbody tr th:only-of-type {\n",
       "        vertical-align: middle;\n",
       "    }\n",
       "\n",
       "    .dataframe tbody tr th {\n",
       "        vertical-align: top;\n",
       "    }\n",
       "\n",
       "    .dataframe thead th {\n",
       "        text-align: right;\n",
       "    }\n",
       "</style>\n",
       "<table border=\"1\" class=\"dataframe\">\n",
       "  <thead>\n",
       "    <tr style=\"text-align: right;\">\n",
       "      <th></th>\n",
       "      <th>NU_INSCRICAO</th>\n",
       "    </tr>\n",
       "    <tr>\n",
       "      <th>NO_Q001</th>\n",
       "      <th></th>\n",
       "    </tr>\n",
       "  </thead>\n",
       "  <tbody>\n",
       "    <tr>\n",
       "      <th>Completou o Ensino Médio, mas não completou a Faculdade.</th>\n",
       "      <td>1006255</td>\n",
       "    </tr>\n",
       "    <tr>\n",
       "      <th>Não completou a 4ª série/5º ano do Ensino Fundamental.</th>\n",
       "      <td>752563</td>\n",
       "    </tr>\n",
       "    <tr>\n",
       "      <th>Completou a 4ª série/5º ano, mas não completou a 8ª série/9º ano do Ensino Fundamental.</th>\n",
       "      <td>515785</td>\n",
       "    </tr>\n",
       "    <tr>\n",
       "      <th>Completou a 8ª série/9º ano do Ensino Fundamental, mas não completou o Ensino Médio.</th>\n",
       "      <td>433193</td>\n",
       "    </tr>\n",
       "    <tr>\n",
       "      <th>Completou a Faculdade, mas não completou a Pós-graduação.</th>\n",
       "      <td>308319</td>\n",
       "    </tr>\n",
       "    <tr>\n",
       "      <th>Não sei.</th>\n",
       "      <td>306177</td>\n",
       "    </tr>\n",
       "    <tr>\n",
       "      <th>Completou a Pós-graduação.</th>\n",
       "      <td>193529</td>\n",
       "    </tr>\n",
       "    <tr>\n",
       "      <th>Nunca estudou.</th>\n",
       "      <td>186186</td>\n",
       "    </tr>\n",
       "  </tbody>\n",
       "</table>\n",
       "</div>"
      ],
      "text/plain": [
       "                                                    NU_INSCRICAO\n",
       "NO_Q001                                                         \n",
       "Completou o Ensino Médio, mas não completou a F...       1006255\n",
       "Não completou a 4ª série/5º ano do Ensino Funda...        752563\n",
       "Completou a 4ª série/5º ano, mas não completou ...        515785\n",
       "Completou a 8ª série/9º ano do Ensino Fundament...        433193\n",
       "Completou a Faculdade, mas não completou a Pós-...        308319\n",
       "Não sei.                                                  306177\n",
       "Completou a Pós-graduação.                                193529\n",
       "Nunca estudou.                                            186186"
      ]
     },
     "execution_count": 19,
     "metadata": {},
     "output_type": "execute_result"
    }
   ],
   "source": [
    "microdadosEnemSelecionado.filter(items=['NU_INSCRICAO', 'NO_Q001']).groupby('NO_Q001').count().sort_values(by='NU_INSCRICAO', ascending=False)\n",
    "#A tabela abaixo mostra a quantidade resposta para cada alternativa em relação a escolaridade dos pais."
   ]
  },
  {
   "cell_type": "code",
   "execution_count": 20,
   "metadata": {},
   "outputs": [
    {
     "data": {
      "text/html": [
       "<div>\n",
       "<style scoped>\n",
       "    .dataframe tbody tr th:only-of-type {\n",
       "        vertical-align: middle;\n",
       "    }\n",
       "\n",
       "    .dataframe tbody tr th {\n",
       "        vertical-align: top;\n",
       "    }\n",
       "\n",
       "    .dataframe thead th {\n",
       "        text-align: right;\n",
       "    }\n",
       "</style>\n",
       "<table border=\"1\" class=\"dataframe\">\n",
       "  <thead>\n",
       "    <tr style=\"text-align: right;\">\n",
       "      <th></th>\n",
       "      <th>NU_INSCRICAO</th>\n",
       "    </tr>\n",
       "    <tr>\n",
       "      <th>NO_Q002</th>\n",
       "      <th></th>\n",
       "    </tr>\n",
       "  </thead>\n",
       "  <tbody>\n",
       "    <tr>\n",
       "      <th>Completou o Ensino Médio, mas não completou a Faculdade.</th>\n",
       "      <td>1234774</td>\n",
       "    </tr>\n",
       "    <tr>\n",
       "      <th>Não completou a 4ª série/5º ano do Ensino Fundamental.</th>\n",
       "      <td>551516</td>\n",
       "    </tr>\n",
       "    <tr>\n",
       "      <th>Completou a 8ª série/9º ano do Ensino Fundamental, mas não completou o Ensino Médio.</th>\n",
       "      <td>475782</td>\n",
       "    </tr>\n",
       "    <tr>\n",
       "      <th>Completou a 4ª série/5º ano, mas não completou a 8ª série/9º ano do Ensino Fundamental.</th>\n",
       "      <td>471827</td>\n",
       "    </tr>\n",
       "    <tr>\n",
       "      <th>Completou a Faculdade, mas não completou a Pós-graduação.</th>\n",
       "      <td>416291</td>\n",
       "    </tr>\n",
       "    <tr>\n",
       "      <th>Completou a Pós-graduação.</th>\n",
       "      <td>333159</td>\n",
       "    </tr>\n",
       "    <tr>\n",
       "      <th>Nunca estudou.</th>\n",
       "      <td>121022</td>\n",
       "    </tr>\n",
       "    <tr>\n",
       "      <th>Não sei.</th>\n",
       "      <td>97636</td>\n",
       "    </tr>\n",
       "  </tbody>\n",
       "</table>\n",
       "</div>"
      ],
      "text/plain": [
       "                                                    NU_INSCRICAO\n",
       "NO_Q002                                                         \n",
       "Completou o Ensino Médio, mas não completou a F...       1234774\n",
       "Não completou a 4ª série/5º ano do Ensino Funda...        551516\n",
       "Completou a 8ª série/9º ano do Ensino Fundament...        475782\n",
       "Completou a 4ª série/5º ano, mas não completou ...        471827\n",
       "Completou a Faculdade, mas não completou a Pós-...        416291\n",
       "Completou a Pós-graduação.                                333159\n",
       "Nunca estudou.                                            121022\n",
       "Não sei.                                                   97636"
      ]
     },
     "execution_count": 20,
     "metadata": {},
     "output_type": "execute_result"
    }
   ],
   "source": [
    "microdadosEnemSelecionado.filter(items=['NU_INSCRICAO', 'NO_Q002']).groupby('NO_Q002').count().sort_values(by='NU_INSCRICAO', ascending=False)\n",
    "#A tabela abaixo mostra a quantidade resposta para cada alternativa em relação a escolaridade das mãe."
   ]
  },
  {
   "cell_type": "code",
   "execution_count": 21,
   "metadata": {},
   "outputs": [
    {
     "data": {
      "text/html": [
       "<div>\n",
       "<style scoped>\n",
       "    .dataframe tbody tr th:only-of-type {\n",
       "        vertical-align: middle;\n",
       "    }\n",
       "\n",
       "    .dataframe tbody tr th {\n",
       "        vertical-align: top;\n",
       "    }\n",
       "\n",
       "    .dataframe thead th {\n",
       "        text-align: right;\n",
       "    }\n",
       "</style>\n",
       "<table border=\"1\" class=\"dataframe\">\n",
       "  <thead>\n",
       "    <tr style=\"text-align: right;\">\n",
       "      <th></th>\n",
       "      <th>NU_NOTA_MT</th>\n",
       "    </tr>\n",
       "    <tr>\n",
       "      <th>NO_Q001</th>\n",
       "      <th></th>\n",
       "    </tr>\n",
       "  </thead>\n",
       "  <tbody>\n",
       "    <tr>\n",
       "      <th>Completou a Pós-graduação.</th>\n",
       "      <td>624.118011</td>\n",
       "    </tr>\n",
       "    <tr>\n",
       "      <th>Completou a Faculdade, mas não completou a Pós-graduação.</th>\n",
       "      <td>600.305733</td>\n",
       "    </tr>\n",
       "    <tr>\n",
       "      <th>Completou o Ensino Médio, mas não completou a Faculdade.</th>\n",
       "      <td>538.924218</td>\n",
       "    </tr>\n",
       "    <tr>\n",
       "      <th>Completou a 8ª série/9º ano do Ensino Fundamental, mas não completou o Ensino Médio.</th>\n",
       "      <td>515.746985</td>\n",
       "    </tr>\n",
       "    <tr>\n",
       "      <th>Completou a 4ª série/5º ano, mas não completou a 8ª série/9º ano do Ensino Fundamental.</th>\n",
       "      <td>505.398424</td>\n",
       "    </tr>\n",
       "    <tr>\n",
       "      <th>Não sei.</th>\n",
       "      <td>495.478053</td>\n",
       "    </tr>\n",
       "    <tr>\n",
       "      <th>Não completou a 4ª série/5º ano do Ensino Fundamental.</th>\n",
       "      <td>486.456585</td>\n",
       "    </tr>\n",
       "    <tr>\n",
       "      <th>Nunca estudou.</th>\n",
       "      <td>466.098351</td>\n",
       "    </tr>\n",
       "  </tbody>\n",
       "</table>\n",
       "</div>"
      ],
      "text/plain": [
       "                                                    NU_NOTA_MT\n",
       "NO_Q001                                                       \n",
       "Completou a Pós-graduação.                          624.118011\n",
       "Completou a Faculdade, mas não completou a Pós-...  600.305733\n",
       "Completou o Ensino Médio, mas não completou a F...  538.924218\n",
       "Completou a 8ª série/9º ano do Ensino Fundament...  515.746985\n",
       "Completou a 4ª série/5º ano, mas não completou ...  505.398424\n",
       "Não sei.                                            495.478053\n",
       "Não completou a 4ª série/5º ano do Ensino Funda...  486.456585\n",
       "Nunca estudou.                                      466.098351"
      ]
     },
     "execution_count": 21,
     "metadata": {},
     "output_type": "execute_result"
    }
   ],
   "source": [
    "microdadosEnemSelecionado.filter(items=['NU_NOTA_MT', 'NO_Q001']).groupby('NO_Q001').mean().sort_values(by='NU_NOTA_MT', ascending=False)\n",
    "#A tabela abaixo mostra nota média em matemática em relação a escolidade dos pais. A tabela indica que quanto maior a escolidade, maior a nota."
   ]
  },
  {
   "cell_type": "code",
   "execution_count": 52,
   "metadata": {},
   "outputs": [
    {
     "data": {
      "text/html": [
       "<div>\n",
       "<style scoped>\n",
       "    .dataframe tbody tr th:only-of-type {\n",
       "        vertical-align: middle;\n",
       "    }\n",
       "\n",
       "    .dataframe tbody tr th {\n",
       "        vertical-align: top;\n",
       "    }\n",
       "\n",
       "    .dataframe thead th {\n",
       "        text-align: right;\n",
       "    }\n",
       "</style>\n",
       "<table border=\"1\" class=\"dataframe\">\n",
       "  <thead>\n",
       "    <tr style=\"text-align: right;\">\n",
       "      <th></th>\n",
       "      <th>NU_NOTA_MT</th>\n",
       "    </tr>\n",
       "    <tr>\n",
       "      <th>NO_Q002</th>\n",
       "      <th></th>\n",
       "    </tr>\n",
       "  </thead>\n",
       "  <tbody>\n",
       "    <tr>\n",
       "      <th>Completou a Pós-graduação.</th>\n",
       "      <td>598.916796</td>\n",
       "    </tr>\n",
       "    <tr>\n",
       "      <th>Completou a Faculdade, mas não completou a Pós-graduação.</th>\n",
       "      <td>583.324021</td>\n",
       "    </tr>\n",
       "    <tr>\n",
       "      <th>Completou o Ensino Médio, mas não completou a Faculdade.</th>\n",
       "      <td>528.317356</td>\n",
       "    </tr>\n",
       "    <tr>\n",
       "      <th>Completou a 8ª série/9º ano do Ensino Fundamental, mas não completou o Ensino Médio.</th>\n",
       "      <td>505.045830</td>\n",
       "    </tr>\n",
       "    <tr>\n",
       "      <th>Completou a 4ª série/5º ano, mas não completou a 8ª série/9º ano do Ensino Fundamental.</th>\n",
       "      <td>496.050296</td>\n",
       "    </tr>\n",
       "    <tr>\n",
       "      <th>Não sei.</th>\n",
       "      <td>484.997643</td>\n",
       "    </tr>\n",
       "    <tr>\n",
       "      <th>Não completou a 4ª série/5º ano do Ensino Fundamental.</th>\n",
       "      <td>480.071887</td>\n",
       "    </tr>\n",
       "    <tr>\n",
       "      <th>Nunca estudou.</th>\n",
       "      <td>459.859393</td>\n",
       "    </tr>\n",
       "  </tbody>\n",
       "</table>\n",
       "</div>"
      ],
      "text/plain": [
       "                                                    NU_NOTA_MT\n",
       "NO_Q002                                                       \n",
       "Completou a Pós-graduação.                          598.916796\n",
       "Completou a Faculdade, mas não completou a Pós-...  583.324021\n",
       "Completou o Ensino Médio, mas não completou a F...  528.317356\n",
       "Completou a 8ª série/9º ano do Ensino Fundament...  505.045830\n",
       "Completou a 4ª série/5º ano, mas não completou ...  496.050296\n",
       "Não sei.                                            484.997643\n",
       "Não completou a 4ª série/5º ano do Ensino Funda...  480.071887\n",
       "Nunca estudou.                                      459.859393"
      ]
     },
     "execution_count": 52,
     "metadata": {},
     "output_type": "execute_result"
    }
   ],
   "source": [
    "microdadosEnemSelecionado.filter(items=['NU_NOTA_MT', 'NO_Q002']).groupby('NO_Q002').mean().sort_values(by='NU_NOTA_MT', ascending=False)\n",
    "#A tabela abaixo mostra nota média em matemática em relação a escolidade das mães. A tabela indica o mesmo comportamento"
   ]
  },
  {
   "cell_type": "code",
   "execution_count": 53,
   "metadata": {},
   "outputs": [
    {
     "data": {
      "text/html": [
       "<div>\n",
       "<style scoped>\n",
       "    .dataframe tbody tr th:only-of-type {\n",
       "        vertical-align: middle;\n",
       "    }\n",
       "\n",
       "    .dataframe tbody tr th {\n",
       "        vertical-align: top;\n",
       "    }\n",
       "\n",
       "    .dataframe thead th {\n",
       "        text-align: right;\n",
       "    }\n",
       "</style>\n",
       "<table border=\"1\" class=\"dataframe\">\n",
       "  <thead>\n",
       "    <tr style=\"text-align: right;\">\n",
       "      <th></th>\n",
       "      <th>NU_NOTA_REDACAO</th>\n",
       "    </tr>\n",
       "    <tr>\n",
       "      <th>NO_Q001</th>\n",
       "      <th></th>\n",
       "    </tr>\n",
       "  </thead>\n",
       "  <tbody>\n",
       "    <tr>\n",
       "      <th>Completou a Pós-graduação.</th>\n",
       "      <td>700.475174</td>\n",
       "    </tr>\n",
       "    <tr>\n",
       "      <th>Completou a Faculdade, mas não completou a Pós-graduação.</th>\n",
       "      <td>673.474421</td>\n",
       "    </tr>\n",
       "    <tr>\n",
       "      <th>Completou o Ensino Médio, mas não completou a Faculdade.</th>\n",
       "      <td>604.810272</td>\n",
       "    </tr>\n",
       "    <tr>\n",
       "      <th>Completou a 8ª série/9º ano do Ensino Fundamental, mas não completou o Ensino Médio.</th>\n",
       "      <td>574.553882</td>\n",
       "    </tr>\n",
       "    <tr>\n",
       "      <th>Completou a 4ª série/5º ano, mas não completou a 8ª série/9º ano do Ensino Fundamental.</th>\n",
       "      <td>558.370329</td>\n",
       "    </tr>\n",
       "    <tr>\n",
       "      <th>Não sei.</th>\n",
       "      <td>537.062092</td>\n",
       "    </tr>\n",
       "    <tr>\n",
       "      <th>Não completou a 4ª série/5º ano do Ensino Fundamental.</th>\n",
       "      <td>532.604420</td>\n",
       "    </tr>\n",
       "    <tr>\n",
       "      <th>Nunca estudou.</th>\n",
       "      <td>496.082520</td>\n",
       "    </tr>\n",
       "  </tbody>\n",
       "</table>\n",
       "</div>"
      ],
      "text/plain": [
       "                                                    NU_NOTA_REDACAO\n",
       "NO_Q001                                                            \n",
       "Completou a Pós-graduação.                               700.475174\n",
       "Completou a Faculdade, mas não completou a Pós-...       673.474421\n",
       "Completou o Ensino Médio, mas não completou a F...       604.810272\n",
       "Completou a 8ª série/9º ano do Ensino Fundament...       574.553882\n",
       "Completou a 4ª série/5º ano, mas não completou ...       558.370329\n",
       "Não sei.                                                 537.062092\n",
       "Não completou a 4ª série/5º ano do Ensino Funda...       532.604420\n",
       "Nunca estudou.                                           496.082520"
      ]
     },
     "execution_count": 53,
     "metadata": {},
     "output_type": "execute_result"
    }
   ],
   "source": [
    "microdadosEnemSelecionado.filter(items=['NU_NOTA_REDACAO', 'NO_Q001']).groupby('NO_Q001').mean().sort_values(by='NU_NOTA_REDACAO', ascending=False)\n",
    "#A tabela abaixo mostra nota média na redação em relação a escolidade dos pais."
   ]
  },
  {
   "cell_type": "code",
   "execution_count": 54,
   "metadata": {},
   "outputs": [
    {
     "data": {
      "text/html": [
       "<div>\n",
       "<style scoped>\n",
       "    .dataframe tbody tr th:only-of-type {\n",
       "        vertical-align: middle;\n",
       "    }\n",
       "\n",
       "    .dataframe tbody tr th {\n",
       "        vertical-align: top;\n",
       "    }\n",
       "\n",
       "    .dataframe thead th {\n",
       "        text-align: right;\n",
       "    }\n",
       "</style>\n",
       "<table border=\"1\" class=\"dataframe\">\n",
       "  <thead>\n",
       "    <tr style=\"text-align: right;\">\n",
       "      <th></th>\n",
       "      <th>NU_NOTA_REDACAO</th>\n",
       "    </tr>\n",
       "    <tr>\n",
       "      <th>NO_Q001</th>\n",
       "      <th></th>\n",
       "    </tr>\n",
       "  </thead>\n",
       "  <tbody>\n",
       "    <tr>\n",
       "      <th>Completou a Pós-graduação.</th>\n",
       "      <td>700.475174</td>\n",
       "    </tr>\n",
       "    <tr>\n",
       "      <th>Completou a Faculdade, mas não completou a Pós-graduação.</th>\n",
       "      <td>673.474421</td>\n",
       "    </tr>\n",
       "    <tr>\n",
       "      <th>Completou o Ensino Médio, mas não completou a Faculdade.</th>\n",
       "      <td>604.810272</td>\n",
       "    </tr>\n",
       "    <tr>\n",
       "      <th>Completou a 8ª série/9º ano do Ensino Fundamental, mas não completou o Ensino Médio.</th>\n",
       "      <td>574.553882</td>\n",
       "    </tr>\n",
       "    <tr>\n",
       "      <th>Completou a 4ª série/5º ano, mas não completou a 8ª série/9º ano do Ensino Fundamental.</th>\n",
       "      <td>558.370329</td>\n",
       "    </tr>\n",
       "    <tr>\n",
       "      <th>Não sei.</th>\n",
       "      <td>537.062092</td>\n",
       "    </tr>\n",
       "    <tr>\n",
       "      <th>Não completou a 4ª série/5º ano do Ensino Fundamental.</th>\n",
       "      <td>532.604420</td>\n",
       "    </tr>\n",
       "    <tr>\n",
       "      <th>Nunca estudou.</th>\n",
       "      <td>496.082520</td>\n",
       "    </tr>\n",
       "  </tbody>\n",
       "</table>\n",
       "</div>"
      ],
      "text/plain": [
       "                                                    NU_NOTA_REDACAO\n",
       "NO_Q001                                                            \n",
       "Completou a Pós-graduação.                               700.475174\n",
       "Completou a Faculdade, mas não completou a Pós-...       673.474421\n",
       "Completou o Ensino Médio, mas não completou a F...       604.810272\n",
       "Completou a 8ª série/9º ano do Ensino Fundament...       574.553882\n",
       "Completou a 4ª série/5º ano, mas não completou ...       558.370329\n",
       "Não sei.                                                 537.062092\n",
       "Não completou a 4ª série/5º ano do Ensino Funda...       532.604420\n",
       "Nunca estudou.                                           496.082520"
      ]
     },
     "execution_count": 54,
     "metadata": {},
     "output_type": "execute_result"
    }
   ],
   "source": [
    "microdadosEnemSelecionado.filter(items=['NU_NOTA_REDACAO', 'NO_Q001']).groupby('NO_Q001').mean().sort_values(by='NU_NOTA_REDACAO', ascending=False)\n",
    "#A tabela abaixo mostra nota média na redação em relação a escolidade dos mães. "
   ]
  },
  {
   "cell_type": "code",
   "execution_count": 22,
   "metadata": {},
   "outputs": [],
   "source": [
    "q002Redacao = microdadosEnemSelecionado.filter(items=['NU_NOTA_REDACAO', 'NO_Q001']).groupby('NO_Q001').mean().sort_values(by='NU_NOTA_REDACAO', ascending=False)"
   ]
  },
  {
   "cell_type": "code",
   "execution_count": 23,
   "metadata": {},
   "outputs": [
    {
     "data": {
      "text/plain": [
       "<AxesSubplot:xlabel='NO_Q001'>"
      ]
     },
     "execution_count": 23,
     "metadata": {},
     "output_type": "execute_result"
    },
    {
     "data": {
      "image/png": "[encoded data removed]",
      "text/plain": [
       "<Figure size 432x288 with 1 Axes>"
      ]
     },
     "metadata": {
      "needs_background": "light"
     },
     "output_type": "display_data"
    }
   ],
   "source": [
    "q002Redacao.plot() #O objetivo do plot e evidenciar a linearidade das notas com relação a escolidade."
   ]
  },
  {
   "cell_type": "code",
   "execution_count": 57,
   "metadata": {},
   "outputs": [
    {
     "data": {
      "text/html": [
       "<div>\n",
       "<style scoped>\n",
       "    .dataframe tbody tr th:only-of-type {\n",
       "        vertical-align: middle;\n",
       "    }\n",
       "\n",
       "    .dataframe tbody tr th {\n",
       "        vertical-align: top;\n",
       "    }\n",
       "\n",
       "    .dataframe thead tr th {\n",
       "        text-align: left;\n",
       "    }\n",
       "\n",
       "    .dataframe thead tr:last-of-type th {\n",
       "        text-align: right;\n",
       "    }\n",
       "</style>\n",
       "<table border=\"1\" class=\"dataframe\">\n",
       "  <thead>\n",
       "    <tr>\n",
       "      <th></th>\n",
       "      <th colspan=\"8\" halign=\"left\">NU_NOTA_REDACAO</th>\n",
       "    </tr>\n",
       "    <tr>\n",
       "      <th></th>\n",
       "      <th>count</th>\n",
       "      <th>mean</th>\n",
       "      <th>std</th>\n",
       "      <th>min</th>\n",
       "      <th>25%</th>\n",
       "      <th>50%</th>\n",
       "      <th>75%</th>\n",
       "      <th>max</th>\n",
       "    </tr>\n",
       "    <tr>\n",
       "      <th>NO_Q001</th>\n",
       "      <th></th>\n",
       "      <th></th>\n",
       "      <th></th>\n",
       "      <th></th>\n",
       "      <th></th>\n",
       "      <th></th>\n",
       "      <th></th>\n",
       "      <th></th>\n",
       "    </tr>\n",
       "  </thead>\n",
       "  <tbody>\n",
       "    <tr>\n",
       "      <th>Completou a 4ª série/5º ano, mas não completou a 8ª série/9º ano do Ensino Fundamental.</th>\n",
       "      <td>515785.0</td>\n",
       "      <td>558.370329</td>\n",
       "      <td>175.472064</td>\n",
       "      <td>0.0</td>\n",
       "      <td>480.0</td>\n",
       "      <td>560.0</td>\n",
       "      <td>640.0</td>\n",
       "      <td>1000.0</td>\n",
       "    </tr>\n",
       "    <tr>\n",
       "      <th>Completou a 8ª série/9º ano do Ensino Fundamental, mas não completou o Ensino Médio.</th>\n",
       "      <td>433193.0</td>\n",
       "      <td>574.553882</td>\n",
       "      <td>176.014692</td>\n",
       "      <td>0.0</td>\n",
       "      <td>500.0</td>\n",
       "      <td>580.0</td>\n",
       "      <td>680.0</td>\n",
       "      <td>1000.0</td>\n",
       "    </tr>\n",
       "    <tr>\n",
       "      <th>Completou a Faculdade, mas não completou a Pós-graduação.</th>\n",
       "      <td>308319.0</td>\n",
       "      <td>673.474421</td>\n",
       "      <td>170.940237</td>\n",
       "      <td>0.0</td>\n",
       "      <td>580.0</td>\n",
       "      <td>660.0</td>\n",
       "      <td>800.0</td>\n",
       "      <td>1000.0</td>\n",
       "    </tr>\n",
       "    <tr>\n",
       "      <th>Completou a Pós-graduação.</th>\n",
       "      <td>193529.0</td>\n",
       "      <td>700.475174</td>\n",
       "      <td>169.925860</td>\n",
       "      <td>0.0</td>\n",
       "      <td>600.0</td>\n",
       "      <td>700.0</td>\n",
       "      <td>840.0</td>\n",
       "      <td>1000.0</td>\n",
       "    </tr>\n",
       "    <tr>\n",
       "      <th>Completou o Ensino Médio, mas não completou a Faculdade.</th>\n",
       "      <td>1006255.0</td>\n",
       "      <td>604.810272</td>\n",
       "      <td>175.241446</td>\n",
       "      <td>0.0</td>\n",
       "      <td>520.0</td>\n",
       "      <td>600.0</td>\n",
       "      <td>700.0</td>\n",
       "      <td>1000.0</td>\n",
       "    </tr>\n",
       "    <tr>\n",
       "      <th>Nunca estudou.</th>\n",
       "      <td>186186.0</td>\n",
       "      <td>496.082520</td>\n",
       "      <td>180.969010</td>\n",
       "      <td>0.0</td>\n",
       "      <td>420.0</td>\n",
       "      <td>520.0</td>\n",
       "      <td>600.0</td>\n",
       "      <td>1000.0</td>\n",
       "    </tr>\n",
       "    <tr>\n",
       "      <th>Não completou a 4ª série/5º ano do Ensino Fundamental.</th>\n",
       "      <td>752563.0</td>\n",
       "      <td>532.604420</td>\n",
       "      <td>172.019074</td>\n",
       "      <td>0.0</td>\n",
       "      <td>460.0</td>\n",
       "      <td>560.0</td>\n",
       "      <td>620.0</td>\n",
       "      <td>1000.0</td>\n",
       "    </tr>\n",
       "    <tr>\n",
       "      <th>Não sei.</th>\n",
       "      <td>306177.0</td>\n",
       "      <td>537.062092</td>\n",
       "      <td>182.576335</td>\n",
       "      <td>0.0</td>\n",
       "      <td>460.0</td>\n",
       "      <td>560.0</td>\n",
       "      <td>640.0</td>\n",
       "      <td>1000.0</td>\n",
       "    </tr>\n",
       "  </tbody>\n",
       "</table>\n",
       "</div>"
      ],
      "text/plain": [
       "                                                   NU_NOTA_REDACAO  \\\n",
       "                                                             count   \n",
       "NO_Q001                                                              \n",
       "Completou a 4ª série/5º ano, mas não completou ...        515785.0   \n",
       "Completou a 8ª série/9º ano do Ensino Fundament...        433193.0   \n",
       "Completou a Faculdade, mas não completou a Pós-...        308319.0   \n",
       "Completou a Pós-graduação.                                193529.0   \n",
       "Completou o Ensino Médio, mas não completou a F...       1006255.0   \n",
       "Nunca estudou.                                            186186.0   \n",
       "Não completou a 4ª série/5º ano do Ensino Funda...        752563.0   \n",
       "Não sei.                                                  306177.0   \n",
       "\n",
       "                                                                            \\\n",
       "                                                          mean         std   \n",
       "NO_Q001                                                                      \n",
       "Completou a 4ª série/5º ano, mas não completou ...  558.370329  175.472064   \n",
       "Completou a 8ª série/9º ano do Ensino Fundament...  574.553882  176.014692   \n",
       "Completou a Faculdade, mas não completou a Pós-...  673.474421  170.940237   \n",
       "Completou a Pós-graduação.                          700.475174  169.925860   \n",
       "Completou o Ensino Médio, mas não completou a F...  604.810272  175.241446   \n",
       "Nunca estudou.                                      496.082520  180.969010   \n",
       "Não completou a 4ª série/5º ano do Ensino Funda...  532.604420  172.019074   \n",
       "Não sei.                                            537.062092  182.576335   \n",
       "\n",
       "                                                                              \\\n",
       "                                                    min    25%    50%    75%   \n",
       "NO_Q001                                                                        \n",
       "Completou a 4ª série/5º ano, mas não completou ...  0.0  480.0  560.0  640.0   \n",
       "Completou a 8ª série/9º ano do Ensino Fundament...  0.0  500.0  580.0  680.0   \n",
       "Completou a Faculdade, mas não completou a Pós-...  0.0  580.0  660.0  800.0   \n",
       "Completou a Pós-graduação.                          0.0  600.0  700.0  840.0   \n",
       "Completou o Ensino Médio, mas não completou a F...  0.0  520.0  600.0  700.0   \n",
       "Nunca estudou.                                      0.0  420.0  520.0  600.0   \n",
       "Não completou a 4ª série/5º ano do Ensino Funda...  0.0  460.0  560.0  620.0   \n",
       "Não sei.                                            0.0  460.0  560.0  640.0   \n",
       "\n",
       "                                                            \n",
       "                                                       max  \n",
       "NO_Q001                                                     \n",
       "Completou a 4ª série/5º ano, mas não completou ...  1000.0  \n",
       "Completou a 8ª série/9º ano do Ensino Fundament...  1000.0  \n",
       "Completou a Faculdade, mas não completou a Pós-...  1000.0  \n",
       "Completou a Pós-graduação.                          1000.0  \n",
       "Completou o Ensino Médio, mas não completou a F...  1000.0  \n",
       "Nunca estudou.                                      1000.0  \n",
       "Não completou a 4ª série/5º ano do Ensino Funda...  1000.0  \n",
       "Não sei.                                            1000.0  "
      ]
     },
     "execution_count": 57,
     "metadata": {},
     "output_type": "execute_result"
    }
   ],
   "source": [
    "microdadosEnemSelecionado.filter(items=['NU_NOTA_REDACAO', 'NO_Q001']).groupby('NO_Q001').describe() #Usando método describe() para ter outros insights. \n",
    "# Uma observação interessante é o fato de todos os grupos possuírem a nota máxima 1000. "
   ]
  },
  {
   "cell_type": "markdown",
   "metadata": {},
   "source": [
    "## Dados do Questionário Sócioeconômico por Estados\n",
    "\n",
    "Após evidenciar a linearidade da relação notas e escolidade dos pais no escopo global, seria interessante analisar se esse comportamento aparece quando reduzido o escopo para Estados."
   ]
  },
  {
   "cell_type": "code",
   "execution_count": 24,
   "metadata": {},
   "outputs": [
    {
     "data": {
      "text/html": [
       "<div>\n",
       "<style scoped>\n",
       "    .dataframe tbody tr th:only-of-type {\n",
       "        vertical-align: middle;\n",
       "    }\n",
       "\n",
       "    .dataframe tbody tr th {\n",
       "        vertical-align: top;\n",
       "    }\n",
       "\n",
       "    .dataframe thead th {\n",
       "        text-align: right;\n",
       "    }\n",
       "</style>\n",
       "<table border=\"1\" class=\"dataframe\">\n",
       "  <thead>\n",
       "    <tr style=\"text-align: right;\">\n",
       "      <th></th>\n",
       "      <th>NU_NOTA_REDACAO</th>\n",
       "    </tr>\n",
       "    <tr>\n",
       "      <th>NO_Q001</th>\n",
       "      <th></th>\n",
       "    </tr>\n",
       "  </thead>\n",
       "  <tbody>\n",
       "    <tr>\n",
       "      <th>Completou a Pós-graduação.</th>\n",
       "      <td>729.890766</td>\n",
       "    </tr>\n",
       "    <tr>\n",
       "      <th>Completou a Faculdade, mas não completou a Pós-graduação.</th>\n",
       "      <td>695.613920</td>\n",
       "    </tr>\n",
       "    <tr>\n",
       "      <th>Completou o Ensino Médio, mas não completou a Faculdade.</th>\n",
       "      <td>619.454588</td>\n",
       "    </tr>\n",
       "    <tr>\n",
       "      <th>Completou a 8ª série/9º ano do Ensino Fundamental, mas não completou o Ensino Médio.</th>\n",
       "      <td>586.662189</td>\n",
       "    </tr>\n",
       "    <tr>\n",
       "      <th>Completou a 4ª série/5º ano, mas não completou a 8ª série/9º ano do Ensino Fundamental.</th>\n",
       "      <td>570.901664</td>\n",
       "    </tr>\n",
       "    <tr>\n",
       "      <th>Não sei.</th>\n",
       "      <td>556.111851</td>\n",
       "    </tr>\n",
       "    <tr>\n",
       "      <th>Não completou a 4ª série/5º ano do Ensino Fundamental.</th>\n",
       "      <td>545.532077</td>\n",
       "    </tr>\n",
       "    <tr>\n",
       "      <th>Nunca estudou.</th>\n",
       "      <td>508.685598</td>\n",
       "    </tr>\n",
       "  </tbody>\n",
       "</table>\n",
       "</div>"
      ],
      "text/plain": [
       "                                                    NU_NOTA_REDACAO\n",
       "NO_Q001                                                            \n",
       "Completou a Pós-graduação.                               729.890766\n",
       "Completou a Faculdade, mas não completou a Pós-...       695.613920\n",
       "Completou o Ensino Médio, mas não completou a F...       619.454588\n",
       "Completou a 8ª série/9º ano do Ensino Fundament...       586.662189\n",
       "Completou a 4ª série/5º ano, mas não completou ...       570.901664\n",
       "Não sei.                                                 556.111851\n",
       "Não completou a 4ª série/5º ano do Ensino Funda...       545.532077\n",
       "Nunca estudou.                                           508.685598"
      ]
     },
     "execution_count": 24,
     "metadata": {},
     "output_type": "execute_result"
    }
   ],
   "source": [
    "microdadosEnemSelecionado.filter(items=['NU_NOTA_REDACAO', 'NO_Q001'])\\\n",
    "    .where(microdadosEnemSelecionado.SG_UF_RESIDENCIA == 'RJ')\\\n",
    "    .groupby('NO_Q001')\\\n",
    "    .mean().sort_values(by='NU_NOTA_REDACAO', ascending=False) #O método where permite selecionar apenas as linhas que possuem A UF = RJ."
   ]
  },
  {
   "cell_type": "code",
   "execution_count": null,
   "metadata": {},
   "outputs": [
    {
     "data": {
      "text/html": [
       "<div>\n",
       "<style scoped>\n",
       "    .dataframe tbody tr th:only-of-type {\n",
       "        vertical-align: middle;\n",
       "    }\n",
       "\n",
       "    .dataframe tbody tr th {\n",
       "        vertical-align: top;\n",
       "    }\n",
       "\n",
       "    .dataframe thead th {\n",
       "        text-align: right;\n",
       "    }\n",
       "</style>\n",
       "<table border=\"1\" class=\"dataframe\">\n",
       "  <thead>\n",
       "    <tr style=\"text-align: right;\">\n",
       "      <th></th>\n",
       "      <th>NU_NOTA_REDACAO</th>\n",
       "    </tr>\n",
       "    <tr>\n",
       "      <th>NO_Q001</th>\n",
       "      <th></th>\n",
       "    </tr>\n",
       "  </thead>\n",
       "  <tbody>\n",
       "    <tr>\n",
       "      <th>Completou a Pós-graduação.</th>\n",
       "      <td>693.532224</td>\n",
       "    </tr>\n",
       "    <tr>\n",
       "      <th>Completou a Faculdade, mas não completou a Pós-graduação.</th>\n",
       "      <td>667.770765</td>\n",
       "    </tr>\n",
       "    <tr>\n",
       "      <th>Completou o Ensino Médio, mas não completou a Faculdade.</th>\n",
       "      <td>602.587417</td>\n",
       "    </tr>\n",
       "    <tr>\n",
       "      <th>Completou a 8ª série/9º ano do Ensino Fundamental, mas não completou o Ensino Médio.</th>\n",
       "      <td>575.267342</td>\n",
       "    </tr>\n",
       "    <tr>\n",
       "      <th>Completou a 4ª série/5º ano, mas não completou a 8ª série/9º ano do Ensino Fundamental.</th>\n",
       "      <td>563.153352</td>\n",
       "    </tr>\n",
       "    <tr>\n",
       "      <th>Não sei.</th>\n",
       "      <td>543.965571</td>\n",
       "    </tr>\n",
       "    <tr>\n",
       "      <th>Não completou a 4ª série/5º ano do Ensino Fundamental.</th>\n",
       "      <td>539.419569</td>\n",
       "    </tr>\n",
       "    <tr>\n",
       "      <th>Nunca estudou.</th>\n",
       "      <td>498.693929</td>\n",
       "    </tr>\n",
       "  </tbody>\n",
       "</table>\n",
       "</div>"
      ],
      "text/plain": [
       "                                                    NU_NOTA_REDACAO\n",
       "NO_Q001                                                            \n",
       "Completou a Pós-graduação.                               693.532224\n",
       "Completou a Faculdade, mas não completou a Pós-...       667.770765\n",
       "Completou o Ensino Médio, mas não completou a F...       602.587417\n",
       "Completou a 8ª série/9º ano do Ensino Fundament...       575.267342\n",
       "Completou a 4ª série/5º ano, mas não completou ...       563.153352\n",
       "Não sei.                                                 543.965571\n",
       "Não completou a 4ª série/5º ano do Ensino Funda...       539.419569\n",
       "Nunca estudou.                                           498.693929"
      ]
     },
     "execution_count": 60,
     "metadata": {},
     "output_type": "execute_result"
    }
   ],
   "source": [
    "microdadosEnemSelecionado.filter(items=['NU_NOTA_REDACAO', 'NO_Q001'])\\\n",
    "    .where(microdadosEnemSelecionado.SG_UF_RESIDENCIA == 'SP')\\\n",
    "    .groupby('NO_Q001')\\\n",
    "    .mean().sort_values(by='NU_NOTA_REDACAO', ascending=False)"
   ]
  },
  {
   "cell_type": "code",
   "execution_count": null,
   "metadata": {},
   "outputs": [
    {
     "data": {
      "text/html": [
       "<div>\n",
       "<style scoped>\n",
       "    .dataframe tbody tr th:only-of-type {\n",
       "        vertical-align: middle;\n",
       "    }\n",
       "\n",
       "    .dataframe tbody tr th {\n",
       "        vertical-align: top;\n",
       "    }\n",
       "\n",
       "    .dataframe thead th {\n",
       "        text-align: right;\n",
       "    }\n",
       "</style>\n",
       "<table border=\"1\" class=\"dataframe\">\n",
       "  <thead>\n",
       "    <tr style=\"text-align: right;\">\n",
       "      <th></th>\n",
       "      <th></th>\n",
       "      <th>NU_NOTA_REDACAO</th>\n",
       "    </tr>\n",
       "    <tr>\n",
       "      <th>SG_UF_RESIDENCIA</th>\n",
       "      <th>NO_Q001</th>\n",
       "      <th></th>\n",
       "    </tr>\n",
       "  </thead>\n",
       "  <tbody>\n",
       "    <tr>\n",
       "      <th rowspan=\"5\" valign=\"top\">AC</th>\n",
       "      <th>Completou a 4ª série/5º ano, mas não completou a 8ª série/9º ano do Ensino Fundamental.</th>\n",
       "      <td>537.214580</td>\n",
       "    </tr>\n",
       "    <tr>\n",
       "      <th>Completou a 8ª série/9º ano do Ensino Fundamental, mas não completou o Ensino Médio.</th>\n",
       "      <td>545.632554</td>\n",
       "    </tr>\n",
       "    <tr>\n",
       "      <th>Completou a Faculdade, mas não completou a Pós-graduação.</th>\n",
       "      <td>617.245264</td>\n",
       "    </tr>\n",
       "    <tr>\n",
       "      <th>Completou a Pós-graduação.</th>\n",
       "      <td>645.543672</td>\n",
       "    </tr>\n",
       "    <tr>\n",
       "      <th>Completou o Ensino Médio, mas não completou a Faculdade.</th>\n",
       "      <td>567.544698</td>\n",
       "    </tr>\n",
       "    <tr>\n",
       "      <th>...</th>\n",
       "      <th>...</th>\n",
       "      <td>...</td>\n",
       "    </tr>\n",
       "    <tr>\n",
       "      <th rowspan=\"5\" valign=\"top\">TO</th>\n",
       "      <th>Completou a Pós-graduação.</th>\n",
       "      <td>682.030769</td>\n",
       "    </tr>\n",
       "    <tr>\n",
       "      <th>Completou o Ensino Médio, mas não completou a Faculdade.</th>\n",
       "      <td>580.978566</td>\n",
       "    </tr>\n",
       "    <tr>\n",
       "      <th>Nunca estudou.</th>\n",
       "      <td>473.613692</td>\n",
       "    </tr>\n",
       "    <tr>\n",
       "      <th>Não completou a 4ª série/5º ano do Ensino Fundamental.</th>\n",
       "      <td>515.779087</td>\n",
       "    </tr>\n",
       "    <tr>\n",
       "      <th>Não sei.</th>\n",
       "      <td>526.654016</td>\n",
       "    </tr>\n",
       "  </tbody>\n",
       "</table>\n",
       "<p>216 rows × 1 columns</p>\n",
       "</div>"
      ],
      "text/plain": [
       "                                                                     NU_NOTA_REDACAO\n",
       "SG_UF_RESIDENCIA NO_Q001                                                            \n",
       "AC               Completou a 4ª série/5º ano, mas não completou ...       537.214580\n",
       "                 Completou a 8ª série/9º ano do Ensino Fundament...       545.632554\n",
       "                 Completou a Faculdade, mas não completou a Pós-...       617.245264\n",
       "                 Completou a Pós-graduação.                               645.543672\n",
       "                 Completou o Ensino Médio, mas não completou a F...       567.544698\n",
       "...                                                                              ...\n",
       "TO               Completou a Pós-graduação.                               682.030769\n",
       "                 Completou o Ensino Médio, mas não completou a F...       580.978566\n",
       "                 Nunca estudou.                                           473.613692\n",
       "                 Não completou a 4ª série/5º ano do Ensino Funda...       515.779087\n",
       "                 Não sei.                                                 526.654016\n",
       "\n",
       "[216 rows x 1 columns]"
      ]
     },
     "execution_count": 61,
     "metadata": {},
     "output_type": "execute_result"
    }
   ],
   "source": [
    "microdadosEnemSelecionado.filter(items=['SG_UF_RESIDENCIA', 'NU_NOTA_REDACAO', 'NO_Q001'])\\\n",
    "    .groupby(['SG_UF_RESIDENCIA', 'NO_Q001'])\\\n",
    "    .mean()"
   ]
  },
  {
   "cell_type": "markdown",
   "metadata": {},
   "source": [
    "A informação de notas e sua relação com a escolidade dos pais separada por Estados foi filtrada. Ainda assim, fica difícil ter uma noção de linearidade apenas com a tabela, devido o extenso número de linhas. Para facilitar a visualização, plotar um gráfico de linha ajudará."
   ]
  },
  {
   "cell_type": "code",
   "execution_count": 9,
   "metadata": {},
   "outputs": [],
   "source": [
    "import matplotlib.pyplot as plt #bibliteoca para plotar gráficos e customizá-los."
   ]
  },
  {
   "cell_type": "code",
   "execution_count": 36,
   "metadata": {},
   "outputs": [
    {
     "data": {
      "text/plain": [
       "Text(0.5, 0, 'Escolaridade da mãe, ou mulher responsável, do candidato.')"
      ]
     },
     "execution_count": 36,
     "metadata": {},
     "output_type": "execute_result"
    },
    {
     "data": {
      "image/png": "[encoded data removed]",
      "text/plain": [
       "<Figure size 1440x720 with 1 Axes>"
      ]
     },
     "metadata": {
      "needs_background": "light"
     },
     "output_type": "display_data"
    }
   ],
   "source": [
    "fig, ax = plt.subplots(figsize=(20, 10))                #tamanho da figura\n",
    "plt.suptitle('Nota da Redação vs Escolaridade dos Pais por Estado', size=30)   #título do gráfico\n",
    "\n",
    "microdadosEnemSelecionado.filter(items=['SG_UF_RESIDENCIA', 'Q002', 'NU_NOTA_REDACAO'])\\\n",
    "    .where(microdadosEnemSelecionado.Q002 != 'H')\\\n",
    "    .groupby(['Q002', 'SG_UF_RESIDENCIA'])\\\n",
    "    .mean().sort_values(by='NU_NOTA_REDACAO', ascending=False)\\\n",
    "    .unstack().plot(ax=ax, color='cornflowerblue')\\\n",
    "    .set_xlabel('Escolaridade da mãe, ou mulher responsável, do candidato.', size=15)\n",
    "    \n",
    "    #unstack significa desempilhar. O método plota todas as linhas separadas."
   ]
  },
  {
   "cell_type": "markdown",
   "metadata": {},
   "source": [
    "Temos um plot que mostra a tendência dos Estados. Porém Existe um pequeno enviesamento do gráfico por causa da alternativa H (não sei). Com não existe uma ordenação possível para ele, a alternativa foi omitida do gráfico."
   ]
  }
 ],
 "metadata": {
  "interpreter": {
   "hash": "f244901a1cefac460a7f1ec92d059106258d57f2a6ff27407b0c4aa071020808"
  },
  "kernelspec": {
   "display_name": "Python 3.10.0 64-bit",
   "language": "python",
   "name": "python3"
  },
  "language_info": {
   "codemirror_mode": {
    "name": "ipython",
    "version": 3
   },
   "file_extension": ".py",
   "mimetype": "text/x-python",
   "name": "python",
   "nbconvert_exporter": "python",
   "pygments_lexer": "ipython3",
   "version": "3.10.0"
  },
  "orig_nbformat": 4
 },
 "nbformat": 4,
 "nbformat_minor": 2
}
