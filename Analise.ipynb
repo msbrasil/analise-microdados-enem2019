{
 "cells": [
  {
   "cell_type": "markdown",
   "metadata": {},
   "source": [
    "# Análise de Microdados ENEM 2019"
   ]
  },
  {
   "cell_type": "markdown",
   "metadata": {},
   "source": [
    "## Importação de dados"
   ]
  },
  {
   "cell_type": "code",
   "execution_count": 1,
   "metadata": {},
   "outputs": [],
   "source": [
    "#Pacotes Utilizados\n",
    "import pandas as pd         #biblioteca de código aberto para análise e manipulação de dados\n",
    "import matplotlib as mpl    #biblioteca para criar visualizações"
   ]
  },
  {
   "cell_type": "markdown",
   "metadata": {},
   "source": [
    "Devido a limitação de hardware, foi utilizado uma método diferente do usual para importar os dados. \n",
    "Com a hipótese formulada, podemos filtrar quais colunas vamos utilizar para investigação através do argumento usecols, economizando processamento e memória do computador. \n",
    "Outra alternativa seria diminuir o tamanho do dataset através das linhas com o argumento nrows."
   ]
  },
  {
   "cell_type": "code",
   "execution_count": 2,
   "metadata": {},
   "outputs": [],
   "source": [
    "caminho = \"D:\\ARQUIVOS\\MICRODADOS_ENEM_2019.csv\"    #path para importação de arquivos\n",
    "colunas = ['NO_MUNICIPIO_RESIDENCIA', 'NU_IDADE', 'SG_UF_RESIDENCIA', 'IN_GESTANTE', 'TP_SEXO']    #colunas selecionadas para importação\n",
    "microdadosEnem = pd.read_csv(caminho, sep=';', encoding='ISO-8859-1', usecols=colunas) #microdados armazenado como data frame"
   ]
  },
  {
   "cell_type": "code",
   "execution_count": 3,
   "metadata": {},
   "outputs": [
    {
     "data": {
      "text/html": [
       "<div>\n",
       "<style scoped>\n",
       "    .dataframe tbody tr th:only-of-type {\n",
       "        vertical-align: middle;\n",
       "    }\n",
       "\n",
       "    .dataframe tbody tr th {\n",
       "        vertical-align: top;\n",
       "    }\n",
       "\n",
       "    .dataframe thead th {\n",
       "        text-align: right;\n",
       "    }\n",
       "</style>\n",
       "<table border=\"1\" class=\"dataframe\">\n",
       "  <thead>\n",
       "    <tr style=\"text-align: right;\">\n",
       "      <th></th>\n",
       "      <th>NO_MUNICIPIO_RESIDENCIA</th>\n",
       "      <th>SG_UF_RESIDENCIA</th>\n",
       "      <th>NU_IDADE</th>\n",
       "      <th>TP_SEXO</th>\n",
       "      <th>IN_GESTANTE</th>\n",
       "    </tr>\n",
       "  </thead>\n",
       "  <tbody>\n",
       "    <tr>\n",
       "      <th>0</th>\n",
       "      <td>Sorocaba</td>\n",
       "      <td>SP</td>\n",
       "      <td>36.0</td>\n",
       "      <td>M</td>\n",
       "      <td>0</td>\n",
       "    </tr>\n",
       "    <tr>\n",
       "      <th>1</th>\n",
       "      <td>Feira de Santana</td>\n",
       "      <td>BA</td>\n",
       "      <td>23.0</td>\n",
       "      <td>M</td>\n",
       "      <td>0</td>\n",
       "    </tr>\n",
       "    <tr>\n",
       "      <th>2</th>\n",
       "      <td>Fortaleza</td>\n",
       "      <td>CE</td>\n",
       "      <td>39.0</td>\n",
       "      <td>F</td>\n",
       "      <td>0</td>\n",
       "    </tr>\n",
       "    <tr>\n",
       "      <th>3</th>\n",
       "      <td>Palmas</td>\n",
       "      <td>TO</td>\n",
       "      <td>25.0</td>\n",
       "      <td>F</td>\n",
       "      <td>0</td>\n",
       "    </tr>\n",
       "    <tr>\n",
       "      <th>4</th>\n",
       "      <td>Contagem</td>\n",
       "      <td>MG</td>\n",
       "      <td>22.0</td>\n",
       "      <td>F</td>\n",
       "      <td>0</td>\n",
       "    </tr>\n",
       "  </tbody>\n",
       "</table>\n",
       "</div>"
      ],
      "text/plain": [
       "  NO_MUNICIPIO_RESIDENCIA SG_UF_RESIDENCIA  NU_IDADE TP_SEXO  IN_GESTANTE\n",
       "0                Sorocaba               SP      36.0       M            0\n",
       "1        Feira de Santana               BA      23.0       M            0\n",
       "2               Fortaleza               CE      39.0       F            0\n",
       "3                  Palmas               TO      25.0       F            0\n",
       "4                Contagem               MG      22.0       F            0"
      ]
     },
     "execution_count": 3,
     "metadata": {},
     "output_type": "execute_result"
    }
   ],
   "source": [
    "#uma vez que os dados foram importados para a variável microdadosEnem, podemos visualizar as primeiras linhas do nosso data frame\n",
    "microdadosEnem.head() #Método que mostra as primeiras do data frame."
   ]
  },
  {
   "cell_type": "markdown",
   "metadata": {},
   "source": [
    "## Análisando os dados"
   ]
  },
  {
   "cell_type": "markdown",
   "metadata": {},
   "source": [
    "Primeiramente, gostaria de saber quantos participantes existe por município. Cada linha do nosso data frame corresponde a um participante, portanto, contar o número de ocorrências de cada município vai responder a primeira pergunta. "
   ]
  },
  {
   "cell_type": "code",
   "execution_count": 4,
   "metadata": {},
   "outputs": [],
   "source": [
    "coluna_no_municipio_residencia = microdadosEnem['NO_MUNICIPIO_RESIDENCIA'] #Armazeno a coluna que contém o nome do município de residência em uma nova variável"
   ]
  },
  {
   "cell_type": "code",
   "execution_count": 5,
   "metadata": {},
   "outputs": [
    {
     "data": {
      "text/plain": [
       "São Paulo                   229837\n",
       "Rio de Janeiro              137762\n",
       "Brasília                     94352\n",
       "Fortaleza                    93959\n",
       "Salvador                     88557\n",
       "                             ...  \n",
       "Canudos do Vale                  9\n",
       "Monte Santo do Tocantins         9\n",
       "Sério                            8\n",
       "Araguainha                       6\n",
       "Forquetinha                      5\n",
       "Name: NO_MUNICIPIO_RESIDENCIA, Length: 5299, dtype: int64"
      ]
     },
     "execution_count": 5,
     "metadata": {},
     "output_type": "execute_result"
    }
   ],
   "source": [
    "coluna_no_municipio_residencia.value_counts() #O método value_counts() faz o trabalho de contar o número de ocorrências de cada município."
   ]
  },
  {
   "cell_type": "code",
   "execution_count": 6,
   "metadata": {},
   "outputs": [
    {
     "data": {
      "text/plain": [
       "Abadia de Goiás         283\n",
       "Abadia dos Dourados     140\n",
       "Abadiânia               280\n",
       "Abaetetuba             6821\n",
       "Abaeté                  495\n",
       "                       ... \n",
       "Áurea                    68\n",
       "Ângulo                   44\n",
       "Érico Cardoso           127\n",
       "Óbidos                 1313\n",
       "Óleo                     46\n",
       "Name: NO_MUNICIPIO_RESIDENCIA, Length: 5299, dtype: int64"
      ]
     },
     "execution_count": 6,
     "metadata": {},
     "output_type": "execute_result"
    }
   ],
   "source": [
    "coluna_no_municipio_residencia.value_counts().sort_index() #Acrescentando o método sort_index(), a contagem de municípios será apresentada em ordem alfabética."
   ]
  },
  {
   "cell_type": "code",
   "execution_count": 7,
   "metadata": {},
   "outputs": [],
   "source": [
    "#Vou aplicar o mesmo processo, mas dessa vez para a coluna idade.\n",
    "coluna_nu_idade = microdadosEnem['NU_IDADE']"
   ]
  },
  {
   "cell_type": "code",
   "execution_count": 8,
   "metadata": {},
   "outputs": [
    {
     "data": {
      "text/plain": [
       "18.0    864186\n",
       "17.0    847303\n",
       "19.0    577161\n",
       "20.0    409385\n",
       "16.0    316437\n",
       "         ...  \n",
       "85.0         2\n",
       "88.0         1\n",
       "94.0         1\n",
       "92.0         1\n",
       "87.0         1\n",
       "Name: NU_IDADE, Length: 82, dtype: int64"
      ]
     },
     "execution_count": 8,
     "metadata": {},
     "output_type": "execute_result"
    }
   ],
   "source": [
    "coluna_nu_idade.value_counts()"
   ]
  },
  {
   "cell_type": "code",
   "execution_count": 9,
   "metadata": {},
   "outputs": [
    {
     "data": {
      "text/plain": [
       "10.0       6\n",
       "11.0       9\n",
       "12.0      46\n",
       "13.0     266\n",
       "14.0    5267\n",
       "        ... \n",
       "87.0       1\n",
       "88.0       1\n",
       "91.0       2\n",
       "92.0       1\n",
       "94.0       1\n",
       "Name: NU_IDADE, Length: 82, dtype: int64"
      ]
     },
     "execution_count": 9,
     "metadata": {},
     "output_type": "execute_result"
    }
   ],
   "source": [
    "coluna_nu_idade.value_counts().sort_index()"
   ]
  },
  {
   "cell_type": "markdown",
   "metadata": {},
   "source": [
    "As células acima trouxeram os primeiros insights da análise. Com a contagem de ocorrências, descobrimos que a idade da maioria dos participantes é 18 anos. \n",
    "\n",
    "Com o método sort_index() apresentando os dados em ordem crescente, descobrimos que existem pessoas relativamente novas e de idade avançada que realizaram a a prova do enem em 2019.\n",
    "\n",
    "Para facilitar a visualização, podemos plotar um gráfico de histograma."
   ]
  },
  {
   "cell_type": "code",
   "execution_count": 10,
   "metadata": {},
   "outputs": [
    {
     "data": {
      "text/plain": [
       "<AxesSubplot:>"
      ]
     },
     "execution_count": 10,
     "metadata": {},
     "output_type": "execute_result"
    },
    {
     "data": {
      "image/png": "[encoded data removed]",
      "text/plain": [
       "<Figure size 432x288 with 1 Axes>"
      ]
     },
     "metadata": {
      "needs_background": "light"
     },
     "output_type": "display_data"
    }
   ],
   "source": [
    "coluna_nu_idade.hist(bins=30) #.hist() plota o gráfico de histograma. O argumento bins aumenta o número de colunas do gráfico, resultando em uma melhor visualização."
   ]
  },
  {
   "cell_type": "code",
   "execution_count": 11,
   "metadata": {},
   "outputs": [],
   "source": [
    "#Agora, vamos investigar o número de participantes por estado\n",
    "coluna_sg_uf_residencia = microdadosEnem['SG_UF_RESIDENCIA']"
   ]
  },
  {
   "cell_type": "code",
   "execution_count": 12,
   "metadata": {},
   "outputs": [
    {
     "data": {
      "text/plain": [
       "SP    813772\n",
       "MG    538896\n",
       "BA    398095\n",
       "RJ    338710\n",
       "CE    295870\n",
       "PA    281518\n",
       "PE    271727\n",
       "MA    219673\n",
       "RS    218763\n",
       "PR    210080\n",
       "GO    170147\n",
       "PB    147780\n",
       "PI    121181\n",
       "RN    119179\n",
       "AM    118087\n",
       "SC    109515\n",
       "ES    102435\n",
       "DF     94352\n",
       "AL     91707\n",
       "MT     88349\n",
       "SE     75895\n",
       "MS     70157\n",
       "RO     58885\n",
       "TO     47181\n",
       "AP     42140\n",
       "AC     38229\n",
       "RR     12947\n",
       "Name: SG_UF_RESIDENCIA, dtype: int64"
      ]
     },
     "execution_count": 12,
     "metadata": {},
     "output_type": "execute_result"
    }
   ],
   "source": [
    "coluna_sg_uf_residencia.value_counts() #Aqui, descobrimos que o Estado com maior e menor frequência de participantes são Sâo Paulo e Roraima, respectivamente. "
   ]
  },
  {
   "cell_type": "code",
   "execution_count": 13,
   "metadata": {},
   "outputs": [
    {
     "data": {
      "text/plain": [
       "<AxesSubplot:>"
      ]
     },
     "execution_count": 13,
     "metadata": {},
     "output_type": "execute_result"
    },
    {
     "data": {
      "image/png": "[encoded data removed]",
      "text/plain": [
       "<Figure size 432x288 with 1 Axes>"
      ]
     },
     "metadata": {
      "needs_background": "light"
     },
     "output_type": "display_data"
    }
   ],
   "source": [
    "coluna_sg_uf_residencia.hist(bins=27)"
   ]
  },
  {
   "cell_type": "markdown",
   "metadata": {},
   "source": [
    "Uma informação que gostaria de saber é o percentual de gestantes que realizaram o enem em 2019..."
   ]
  },
  {
   "cell_type": "code",
   "execution_count": 14,
   "metadata": {},
   "outputs": [],
   "source": [
    "coluna_in_gestante = microdadosEnem['IN_GESTANTE']"
   ]
  },
  {
   "cell_type": "code",
   "execution_count": 15,
   "metadata": {},
   "outputs": [],
   "source": [
    "distInGestante = coluna_in_gestante.value_counts() "
   ]
  },
  {
   "cell_type": "code",
   "execution_count": 16,
   "metadata": {},
   "outputs": [
    {
     "data": {
      "text/plain": [
       "0    5093860\n",
       "1       1410\n",
       "Name: IN_GESTANTE, dtype: int64"
      ]
     },
     "execution_count": 16,
     "metadata": {},
     "output_type": "execute_result"
    }
   ],
   "source": [
    "distInGestante #O resultado para esse contagem retorna 0 e 1, sendo 0 = falso e 1 = verdadeiro, ou seja, gestantes."
   ]
  },
  {
   "cell_type": "code",
   "execution_count": 17,
   "metadata": {},
   "outputs": [],
   "source": [
    "percentInGestante = [100 * x / distInGestante.sum() for x in distInGestante]"
   ]
  },
  {
   "cell_type": "code",
   "execution_count": 18,
   "metadata": {},
   "outputs": [
    {
     "data": {
      "text/plain": [
       "[99.97232727608154, 0.027672723918457705]"
      ]
     },
     "execution_count": 18,
     "metadata": {},
     "output_type": "execute_result"
    }
   ],
   "source": [
    "percentInGestante"
   ]
  },
  {
   "cell_type": "markdown",
   "metadata": {},
   "source": [
    "O resultado foi que aproximadamente 99,97% dos candidatos não são gestantes, enquanto aproximadamente 0,02% são gestantes. Entretanto, esse cálculo foi realizado em relação ao total de candidatos. A informação que procuramos talvez fosse mais precisa se o cálculo fosse em relação ao número de candidatas do sexo feminino."
   ]
  },
  {
   "cell_type": "code",
   "execution_count": 20,
   "metadata": {},
   "outputs": [],
   "source": [
    "coluna_tp_sexo = microdadosEnem['TP_SEXO']"
   ]
  },
  {
   "cell_type": "code",
   "execution_count": 21,
   "metadata": {},
   "outputs": [],
   "source": [
    "distTpSexo = coluna_tp_sexo.value_counts()"
   ]
  },
  {
   "cell_type": "code",
   "execution_count": 22,
   "metadata": {},
   "outputs": [
    {
     "data": {
      "text/plain": [
       "F    3031822\n",
       "M    2063448\n",
       "Name: TP_SEXO, dtype: int64"
      ]
     },
     "execution_count": 22,
     "metadata": {},
     "output_type": "execute_result"
    }
   ],
   "source": [
    "distTpSexo #O resultado de pessoas que declaram o sexo feminino ou masculino nessa edição do enem."
   ]
  },
  {
   "cell_type": "code",
   "execution_count": 23,
   "metadata": {},
   "outputs": [],
   "source": [
    "percentTpSexo = [100*x/distTpSexo.sum() for x in distTpSexo]"
   ]
  },
  {
   "cell_type": "code",
   "execution_count": 24,
   "metadata": {},
   "outputs": [
    {
     "data": {
      "text/plain": [
       "[59.50267601128105, 40.49732398871895]"
      ]
     },
     "execution_count": 24,
     "metadata": {},
     "output_type": "execute_result"
    }
   ],
   "source": [
    "percentTpSexo #o resultado apresentando como percentual. O maior percentual é do sexo feminino."
   ]
  },
  {
   "cell_type": "code",
   "execution_count": 25,
   "metadata": {},
   "outputs": [],
   "source": [
    "sexoFeminino = distTpSexo[0]        #Número de candidatas do sexo feminino\n",
    "nu_gestantes = distInGestante[1]    #Número de gestantes"
   ]
  },
  {
   "cell_type": "code",
   "execution_count": 27,
   "metadata": {},
   "outputs": [],
   "source": [
    "percentGestantes = 100*nu_gestantes/sexoFeminino"
   ]
  },
  {
   "cell_type": "code",
   "execution_count": 28,
   "metadata": {},
   "outputs": [
    {
     "data": {
      "text/plain": [
       "0.04650668805754427"
      ]
     },
     "execution_count": 28,
     "metadata": {},
     "output_type": "execute_result"
    }
   ],
   "source": [
    "percentGestantes #Esse é o resultado que procuramos. O percentual de gestantes em relação ao total de candidatas do sexo feminino."
   ]
  },
  {
   "cell_type": "code",
   "execution_count": 29,
   "metadata": {},
   "outputs": [],
   "source": [
    "percentNaoGestantes = 100 - percentGestantes "
   ]
  },
  {
   "cell_type": "code",
   "execution_count": 30,
   "metadata": {},
   "outputs": [
    {
     "data": {
      "text/plain": [
       "99.95349331194245"
      ]
     },
     "execution_count": 30,
     "metadata": {},
     "output_type": "execute_result"
    }
   ],
   "source": [
    "percentNaoGestantes #Para completar, o percentual de não gestantes."
   ]
  }
 ],
 "metadata": {
  "interpreter": {
   "hash": "f244901a1cefac460a7f1ec92d059106258d57f2a6ff27407b0c4aa071020808"
  },
  "kernelspec": {
   "display_name": "Python 3.10.0 64-bit",
   "language": "python",
   "name": "python3"
  },
  "language_info": {
   "codemirror_mode": {
    "name": "ipython",
    "version": 3
   },
   "file_extension": ".py",
   "mimetype": "text/x-python",
   "name": "python",
   "nbconvert_exporter": "python",
   "pygments_lexer": "ipython3",
   "version": "3.10.0"
  },
  "orig_nbformat": 4
 },
 "nbformat": 4,
 "nbformat_minor": 2
}
